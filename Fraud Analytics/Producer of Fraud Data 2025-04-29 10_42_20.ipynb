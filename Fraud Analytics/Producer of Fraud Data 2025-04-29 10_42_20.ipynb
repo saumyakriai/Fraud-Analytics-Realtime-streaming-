{
 "cells": [
  {
   "cell_type": "code",
   "execution_count": 0,
   "metadata": {
    "application/vnd.databricks.v1+cell": {
     "cellMetadata": {
      "byteLimit": 2048000,
      "rowLimit": 10000
     },
     "inputWidgets": {},
     "nuid": "57797cf1-54f6-4147-8282-eca28c7bf344",
     "showTitle": false,
     "tableResultSettingsMap": {},
     "title": ""
    }
   },
   "outputs": [
    {
     "output_type": "stream",
     "name": "stdout",
     "output_type": "stream",
     "text": [
      "Requirement already satisfied: confluent_kafka in /local_disk0/.ephemeral_nfs/envs/pythonEnv-7553686b-90d3-44ac-bc10-581fd3947a5e/lib/python3.11/site-packages (2.10.0)\n\u001B[43mNote: you may need to restart the kernel using %restart_python or dbutils.library.restartPython() to use updated packages.\u001B[0m\n"
     ]
    }
   ],
   "source": [
    "pip install confluent_kafka"
   ]
  },
  {
   "cell_type": "code",
   "execution_count": 0,
   "metadata": {
    "application/vnd.databricks.v1+cell": {
     "cellMetadata": {
      "byteLimit": 2048000,
      "rowLimit": 10000
     },
     "inputWidgets": {},
     "nuid": "5f7d4ac6-930f-4b1a-8e78-9739c3551507",
     "showTitle": false,
     "tableResultSettingsMap": {},
     "title": ""
    }
   },
   "outputs": [],
   "source": [
    "dbutils.library.restartPython()"
   ]
  },
  {
   "cell_type": "code",
   "execution_count": 0,
   "metadata": {
    "application/vnd.databricks.v1+cell": {
     "cellMetadata": {
      "byteLimit": 2048000,
      "rowLimit": 10000
     },
     "inputWidgets": {},
     "nuid": "1911537c-9b7f-4098-bd81-9114f725790b",
     "showTitle": false,
     "tableResultSettingsMap": {},
     "title": ""
    }
   },
   "outputs": [
    {
     "output_type": "stream",
     "name": "stdout",
     "output_type": "stream",
     "text": [
      "Collecting faker\n  Downloading faker-37.1.0-py3-none-any.whl.metadata (15 kB)\nRequirement already satisfied: tzdata in /databricks/python3/lib/python3.11/site-packages (from faker) (2022.1)\nDownloading faker-37.1.0-py3-none-any.whl (1.9 MB)\n\u001B[?25l   \u001B[90m━━━━━━━━━━━━━━━━━━━━━━━━━━━━━━━━━━━━━━━━\u001B[0m \u001B[32m0.0/1.9 MB\u001B[0m \u001B[31m?\u001B[0m eta \u001B[36m-:--:--\u001B[0m\n\u001B[2K   \u001B[91m━━━━━━━━━━━━━━━━━━━━━━━━━━━━━━━━\u001B[0m\u001B[91m╸\u001B[0m\u001B[90m━━━━━━━\u001B[0m \u001B[32m1.6/1.9 MB\u001B[0m \u001B[31m9.2 MB/s\u001B[0m eta \u001B[36m0:00:01\u001B[0m\n\u001B[2K   \u001B[90m━━━━━━━━━━━━━━━━━━━━━━━━━━━━━━━━━━━━━━━━\u001B[0m \u001B[32m1.9/1.9 MB\u001B[0m \u001B[31m9.4 MB/s\u001B[0m eta \u001B[36m0:00:00\u001B[0m\n\u001B[?25hInstalling collected packages: faker\nSuccessfully installed faker-37.1.0\n\u001B[43mNote: you may need to restart the kernel using %restart_python or dbutils.library.restartPython() to use updated packages.\u001B[0m\n"
     ]
    }
   ],
   "source": [
    "#synthetic data\n",
    "pip install faker"
   ]
  },
  {
   "cell_type": "code",
   "execution_count": 0,
   "metadata": {
    "application/vnd.databricks.v1+cell": {
     "cellMetadata": {
      "byteLimit": 2048000,
      "rowLimit": 10000
     },
     "inputWidgets": {},
     "nuid": "49dd953c-77a5-4b16-b935-1062154012b1",
     "showTitle": false,
     "tableResultSettingsMap": {},
     "title": ""
    }
   },
   "outputs": [],
   "source": [
    "from confluent_kafka import Producer\n",
    "import json\n",
    "import random\n",
    "from faker import Faker\n",
    "import time"
   ]
  },
  {
   "cell_type": "code",
   "execution_count": 0,
   "metadata": {
    "application/vnd.databricks.v1+cell": {
     "cellMetadata": {
      "byteLimit": 2048000,
      "rowLimit": 10000
     },
     "inputWidgets": {},
     "nuid": "ad3d4754-adf3-4dc7-b0d8-f2a7a89a062d",
     "showTitle": false,
     "tableResultSettingsMap": {},
     "title": ""
    }
   },
   "outputs": [],
   "source": [
    "fake = Faker()\n",
    "conf = {\n",
    "    'bootstrap.servers': 'pkc-921jm.us-east-2.aws.confluent.cloud:9092',  # Corrected Port\n",
    "    'security.protocol': 'SASL_SSL',\n",
    "    'sasl.mechanism': 'PLAIN',\n",
    "    'sasl.username': '7R27XZ2QWW7ON3QI',  # Replace with new key if needed\n",
    "    'sasl.password': '5J2bmoSE4+G4oRkTe1ApixLjPRH+yLNRlHLv6Ept8MQ29S6YDeGMgZngVjS9f2wZ'  # Replace securely\n",
    "}"
   ]
  },
  {
   "cell_type": "code",
   "execution_count": 0,
   "metadata": {
    "application/vnd.databricks.v1+cell": {
     "cellMetadata": {
      "byteLimit": 2048000,
      "rowLimit": 10000
     },
     "inputWidgets": {},
     "nuid": "b5cc3dc9-0f77-4a11-a152-49f8519cec59",
     "showTitle": false,
     "tableResultSettingsMap": {},
     "title": ""
    }
   },
   "outputs": [
    {
     "output_type": "stream",
     "name": "stderr",
     "output_type": "stream",
     "text": [
      "%3|1745952480.097|FAIL|rdkafka#producer-1| [thrd:sasl_ssl://pkc-921jm.us-east-2.aws.confluent.cloud:9092/bootstr]: sasl_ssl://pkc-921jm.us-east-2.aws.confluent.cloud:9092/bootstrap: Failed to resolve 'pkc-921jm.us-east-2.aws.confluent.cloud:9092': Temporary failure in name resolution (after 3ms in state CONNECT)\n%3|1745952481.147|FAIL|rdkafka#producer-1| [thrd:sasl_ssl://pkc-921jm.us-east-2.aws.confluent.cloud:9092/bootstr]: sasl_ssl://pkc-921jm.us-east-2.aws.confluent.cloud:9092/bootstrap: Failed to resolve 'pkc-921jm.us-east-2.aws.confluent.cloud:9092': Temporary failure in name resolution (after 2ms in state CONNECT, 1 identical error(s) suppressed)\n%3|1745952511.154|FAIL|rdkafka#producer-1| [thrd:sasl_ssl://pkc-921jm.us-east-2.aws.confluent.cloud:9092/bootstr]: sasl_ssl://pkc-921jm.us-east-2.aws.confluent.cloud:9092/bootstrap: Failed to resolve 'pkc-921jm.us-east-2.aws.confluent.cloud:9092': Temporary failure in name resolution (after 1ms in state CONNECT, 20 identical error(s) suppressed)\n%3|1745952542.164|FAIL|rdkafka#producer-1| [thrd:sasl_ssl://pkc-921jm.us-east-2.aws.confluent.cloud:9092/bootstr]: sasl_ssl://pkc-921jm.us-east-2.aws.confluent.cloud:9092/bootstrap: Failed to resolve 'pkc-921jm.us-east-2.aws.confluent.cloud:9092': Temporary failure in name resolution (after 1ms in state CONNECT, 21 identical error(s) suppressed)\n%3|1745952573.175|FAIL|rdkafka#producer-1| [thrd:sasl_ssl://pkc-921jm.us-east-2.aws.confluent.cloud:9092/bootstr]: sasl_ssl://pkc-921jm.us-east-2.aws.confluent.cloud:9092/bootstrap: Failed to resolve 'pkc-921jm.us-east-2.aws.confluent.cloud:9092': Temporary failure in name resolution (after 1ms in state CONNECT, 21 identical error(s) suppressed)\n%3|1745952603.179|FAIL|rdkafka#producer-1| [thrd:sasl_ssl://pkc-921jm.us-east-2.aws.confluent.cloud:9092/bootstr]: sasl_ssl://pkc-921jm.us-east-2.aws.confluent.cloud:9092/bootstrap: Failed to resolve 'pkc-921jm.us-east-2.aws.confluent.cloud:9092': Temporary failure in name resolution (after 1ms in state CONNECT, 20 identical error(s) suppressed)\n%3|1745952633.184|FAIL|rdkafka#producer-1| [thrd:sasl_ssl://pkc-921jm.us-east-2.aws.confluent.cloud:9092/bootstr]: sasl_ssl://pkc-921jm.us-east-2.aws.confluent.cloud:9092/bootstrap: Failed to resolve 'pkc-921jm.us-east-2.aws.confluent.cloud:9092': Temporary failure in name resolution (after 1ms in state CONNECT, 20 identical error(s) suppressed)\n%3|1745952663.188|FAIL|rdkafka#producer-1| [thrd:sasl_ssl://pkc-921jm.us-east-2.aws.confluent.cloud:9092/bootstr]: sasl_ssl://pkc-921jm.us-east-2.aws.confluent.cloud:9092/bootstrap: Failed to resolve 'pkc-921jm.us-east-2.aws.confluent.cloud:9092': Temporary failure in name resolution (after 1ms in state CONNECT, 20 identical error(s) suppressed)\n%3|1745952693.193|FAIL|rdkafka#producer-1| [thrd:sasl_ssl://pkc-921jm.us-east-2.aws.confluent.cloud:9092/bootstr]: sasl_ssl://pkc-921jm.us-east-2.aws.confluent.cloud:9092/bootstrap: Failed to resolve 'pkc-921jm.us-east-2.aws.confluent.cloud:9092': Temporary failure in name resolution (after 2ms in state CONNECT, 20 identical error(s) suppressed)\n%3|1745952724.205|FAIL|rdkafka#producer-1| [thrd:sasl_ssl://pkc-921jm.us-east-2.aws.confluent.cloud:9092/bootstr]: sasl_ssl://pkc-921jm.us-east-2.aws.confluent.cloud:9092/bootstrap: Failed to resolve 'pkc-921jm.us-east-2.aws.confluent.cloud:9092': Temporary failure in name resolution (after 2ms in state CONNECT, 21 identical error(s) suppressed)\n%3|1745952754.219|FAIL|rdkafka#producer-1| [thrd:sasl_ssl://pkc-921jm.us-east-2.aws.confluent.cloud:9092/bootstr]: sasl_ssl://pkc-921jm.us-east-2.aws.confluent.cloud:9092/bootstrap: Failed to resolve 'pkc-921jm.us-east-2.aws.confluent.cloud:9092': Temporary failure in name resolution (after 10ms in state CONNECT, 20 identical error(s) suppressed)\n"
     ]
    },
    {
     "output_type": "stream",
     "name": "stdout",
     "output_type": "stream",
     "text": [
      "message is not delivered: KafkaError{code=_MSG_TIMED_OUT,val=-192,str=\"Local: Message timed out\"}\n"
     ]
    },
    {
     "output_type": "stream",
     "name": "stderr",
     "output_type": "stream",
     "text": [
      "%3|1745952785.258|FAIL|rdkafka#producer-1| [thrd:sasl_ssl://pkc-921jm.us-east-2.aws.confluent.cloud:9092/bootstr]: sasl_ssl://pkc-921jm.us-east-2.aws.confluent.cloud:9092/bootstrap: Failed to resolve 'pkc-921jm.us-east-2.aws.confluent.cloud:9092': Temporary failure in name resolution (after 5ms in state CONNECT, 21 identical error(s) suppressed)\n%3|1745952815.260|FAIL|rdkafka#producer-1| [thrd:sasl_ssl://pkc-921jm.us-east-2.aws.confluent.cloud:9092/bootstr]: sasl_ssl://pkc-921jm.us-east-2.aws.confluent.cloud:9092/bootstrap: Failed to resolve 'pkc-921jm.us-east-2.aws.confluent.cloud:9092': Temporary failure in name resolution (after 2ms in state CONNECT, 20 identical error(s) suppressed)\n%3|1745952845.269|FAIL|rdkafka#producer-1| [thrd:sasl_ssl://pkc-921jm.us-east-2.aws.confluent.cloud:9092/bootstr]: sasl_ssl://pkc-921jm.us-east-2.aws.confluent.cloud:9092/bootstrap: Failed to resolve 'pkc-921jm.us-east-2.aws.confluent.cloud:9092': Temporary failure in name resolution (after 1ms in state CONNECT, 20 identical error(s) suppressed)\n%3|1745952875.274|FAIL|rdkafka#producer-1| [thrd:sasl_ssl://pkc-921jm.us-east-2.aws.confluent.cloud:9092/bootstr]: sasl_ssl://pkc-921jm.us-east-2.aws.confluent.cloud:9092/bootstrap: Failed to resolve 'pkc-921jm.us-east-2.aws.confluent.cloud:9092': Temporary failure in name resolution (after 1ms in state CONNECT, 20 identical error(s) suppressed)\n%3|1745952905.280|FAIL|rdkafka#producer-1| [thrd:sasl_ssl://pkc-921jm.us-east-2.aws.confluent.cloud:9092/bootstr]: sasl_ssl://pkc-921jm.us-east-2.aws.confluent.cloud:9092/bootstrap: Failed to resolve 'pkc-921jm.us-east-2.aws.confluent.cloud:9092': Temporary failure in name resolution (after 1ms in state CONNECT, 20 identical error(s) suppressed)\n%3|1745952935.314|FAIL|rdkafka#producer-1| [thrd:sasl_ssl://pkc-921jm.us-east-2.aws.confluent.cloud:9092/bootstr]: sasl_ssl://pkc-921jm.us-east-2.aws.confluent.cloud:9092/bootstrap: Failed to resolve 'pkc-921jm.us-east-2.aws.confluent.cloud:9092': Temporary failure in name resolution (after 12ms in state CONNECT, 20 identical error(s) suppressed)\n%3|1745952966.257|FAIL|rdkafka#producer-1| [thrd:sasl_ssl://pkc-921jm.us-east-2.aws.confluent.cloud:9092/bootstr]: sasl_ssl://pkc-921jm.us-east-2.aws.confluent.cloud:9092/bootstrap: Failed to resolve 'pkc-921jm.us-east-2.aws.confluent.cloud:9092': Temporary failure in name resolution (after 2ms in state CONNECT, 21 identical error(s) suppressed)\n%3|1745952996.268|FAIL|rdkafka#producer-1| [thrd:sasl_ssl://pkc-921jm.us-east-2.aws.confluent.cloud:9092/bootstr]: sasl_ssl://pkc-921jm.us-east-2.aws.confluent.cloud:9092/bootstrap: Failed to resolve 'pkc-921jm.us-east-2.aws.confluent.cloud:9092': Temporary failure in name resolution (after 1ms in state CONNECT, 20 identical error(s) suppressed)\n%3|1745953026.277|FAIL|rdkafka#producer-1| [thrd:sasl_ssl://pkc-921jm.us-east-2.aws.confluent.cloud:9092/bootstr]: sasl_ssl://pkc-921jm.us-east-2.aws.confluent.cloud:9092/bootstrap: Failed to resolve 'pkc-921jm.us-east-2.aws.confluent.cloud:9092': Temporary failure in name resolution (after 1ms in state CONNECT, 20 identical error(s) suppressed)\n%3|1745953057.288|FAIL|rdkafka#producer-1| [thrd:sasl_ssl://pkc-921jm.us-east-2.aws.confluent.cloud:9092/bootstr]: sasl_ssl://pkc-921jm.us-east-2.aws.confluent.cloud:9092/bootstrap: Failed to resolve 'pkc-921jm.us-east-2.aws.confluent.cloud:9092': Temporary failure in name resolution (after 2ms in state CONNECT, 21 identical error(s) suppressed)\n"
     ]
    },
    {
     "output_type": "stream",
     "name": "stdout",
     "output_type": "stream",
     "text": [
      "message is not delivered: KafkaError{code=_MSG_TIMED_OUT,val=-192,str=\"Local: Message timed out\"}\n"
     ]
    },
    {
     "output_type": "stream",
     "name": "stderr",
     "output_type": "stream",
     "text": [
      "%3|1745953087.298|FAIL|rdkafka#producer-1| [thrd:sasl_ssl://pkc-921jm.us-east-2.aws.confluent.cloud:9092/bootstr]: sasl_ssl://pkc-921jm.us-east-2.aws.confluent.cloud:9092/bootstrap: Failed to resolve 'pkc-921jm.us-east-2.aws.confluent.cloud:9092': Temporary failure in name resolution (after 2ms in state CONNECT, 20 identical error(s) suppressed)\n%3|1745953118.306|FAIL|rdkafka#producer-1| [thrd:sasl_ssl://pkc-921jm.us-east-2.aws.confluent.cloud:9092/bootstr]: sasl_ssl://pkc-921jm.us-east-2.aws.confluent.cloud:9092/bootstrap: Failed to resolve 'pkc-921jm.us-east-2.aws.confluent.cloud:9092': Temporary failure in name resolution (after 2ms in state CONNECT, 21 identical error(s) suppressed)\n%3|1745953149.327|FAIL|rdkafka#producer-1| [thrd:sasl_ssl://pkc-921jm.us-east-2.aws.confluent.cloud:9092/bootstr]: sasl_ssl://pkc-921jm.us-east-2.aws.confluent.cloud:9092/bootstrap: Failed to resolve 'pkc-921jm.us-east-2.aws.confluent.cloud:9092': Temporary failure in name resolution (after 9ms in state CONNECT, 21 identical error(s) suppressed)\n%3|1745953179.333|FAIL|rdkafka#producer-1| [thrd:sasl_ssl://pkc-921jm.us-east-2.aws.confluent.cloud:9092/bootstr]: sasl_ssl://pkc-921jm.us-east-2.aws.confluent.cloud:9092/bootstrap: Failed to resolve 'pkc-921jm.us-east-2.aws.confluent.cloud:9092': Temporary failure in name resolution (after 1ms in state CONNECT, 20 identical error(s) suppressed)\n%3|1745953209.343|FAIL|rdkafka#producer-1| [thrd:sasl_ssl://pkc-921jm.us-east-2.aws.confluent.cloud:9092/bootstr]: sasl_ssl://pkc-921jm.us-east-2.aws.confluent.cloud:9092/bootstrap: Failed to resolve 'pkc-921jm.us-east-2.aws.confluent.cloud:9092': Temporary failure in name resolution (after 3ms in state CONNECT, 20 identical error(s) suppressed)\n%3|1745953240.356|FAIL|rdkafka#producer-1| [thrd:sasl_ssl://pkc-921jm.us-east-2.aws.confluent.cloud:9092/bootstr]: sasl_ssl://pkc-921jm.us-east-2.aws.confluent.cloud:9092/bootstrap: Failed to resolve 'pkc-921jm.us-east-2.aws.confluent.cloud:9092': Temporary failure in name resolution (after 2ms in state CONNECT, 21 identical error(s) suppressed)\n%3|1745953271.383|FAIL|rdkafka#producer-1| [thrd:sasl_ssl://pkc-921jm.us-east-2.aws.confluent.cloud:9092/bootstr]: sasl_ssl://pkc-921jm.us-east-2.aws.confluent.cloud:9092/bootstrap: Failed to resolve 'pkc-921jm.us-east-2.aws.confluent.cloud:9092': Temporary failure in name resolution (after 13ms in state CONNECT, 21 identical error(s) suppressed)\n%3|1745953302.389|FAIL|rdkafka#producer-1| [thrd:sasl_ssl://pkc-921jm.us-east-2.aws.confluent.cloud:9092/bootstr]: sasl_ssl://pkc-921jm.us-east-2.aws.confluent.cloud:9092/bootstrap: Failed to resolve 'pkc-921jm.us-east-2.aws.confluent.cloud:9092': Temporary failure in name resolution (after 5ms in state CONNECT, 21 identical error(s) suppressed)\n%3|1745953333.397|FAIL|rdkafka#producer-1| [thrd:sasl_ssl://pkc-921jm.us-east-2.aws.confluent.cloud:9092/bootstr]: sasl_ssl://pkc-921jm.us-east-2.aws.confluent.cloud:9092/bootstrap: Failed to resolve 'pkc-921jm.us-east-2.aws.confluent.cloud:9092': Temporary failure in name resolution (after 1ms in state CONNECT, 21 identical error(s) suppressed)\n%3|1745953363.407|FAIL|rdkafka#producer-1| [thrd:sasl_ssl://pkc-921jm.us-east-2.aws.confluent.cloud:9092/bootstr]: sasl_ssl://pkc-921jm.us-east-2.aws.confluent.cloud:9092/bootstrap: Failed to resolve 'pkc-921jm.us-east-2.aws.confluent.cloud:9092': Temporary failure in name resolution (after 2ms in state CONNECT, 20 identical error(s) suppressed)\n"
     ]
    },
    {
     "output_type": "stream",
     "name": "stdout",
     "output_type": "stream",
     "text": [
      "message is not delivered: KafkaError{code=_MSG_TIMED_OUT,val=-192,str=\"Local: Message timed out\"}\n"
     ]
    },
    {
     "output_type": "stream",
     "name": "stderr",
     "output_type": "stream",
     "text": [
      "%3|1745953393.418|FAIL|rdkafka#producer-1| [thrd:sasl_ssl://pkc-921jm.us-east-2.aws.confluent.cloud:9092/bootstr]: sasl_ssl://pkc-921jm.us-east-2.aws.confluent.cloud:9092/bootstrap: Failed to resolve 'pkc-921jm.us-east-2.aws.confluent.cloud:9092': Temporary failure in name resolution (after 2ms in state CONNECT, 20 identical error(s) suppressed)\n%3|1745953423.492|FAIL|rdkafka#producer-1| [thrd:sasl_ssl://pkc-921jm.us-east-2.aws.confluent.cloud:9092/bootstr]: sasl_ssl://pkc-921jm.us-east-2.aws.confluent.cloud:9092/bootstrap: Failed to resolve 'pkc-921jm.us-east-2.aws.confluent.cloud:9092': Temporary failure in name resolution (after 1ms in state CONNECT, 21 identical error(s) suppressed)\n%3|1745953453.503|FAIL|rdkafka#producer-1| [thrd:sasl_ssl://pkc-921jm.us-east-2.aws.confluent.cloud:9092/bootstr]: sasl_ssl://pkc-921jm.us-east-2.aws.confluent.cloud:9092/bootstrap: Failed to resolve 'pkc-921jm.us-east-2.aws.confluent.cloud:9092': Temporary failure in name resolution (after 1ms in state CONNECT, 20 identical error(s) suppressed)\n%3|1745953483.511|FAIL|rdkafka#producer-1| [thrd:sasl_ssl://pkc-921jm.us-east-2.aws.confluent.cloud:9092/bootstr]: sasl_ssl://pkc-921jm.us-east-2.aws.confluent.cloud:9092/bootstrap: Failed to resolve 'pkc-921jm.us-east-2.aws.confluent.cloud:9092': Temporary failure in name resolution (after 1ms in state CONNECT, 20 identical error(s) suppressed)\n%3|1745953513.517|FAIL|rdkafka#producer-1| [thrd:sasl_ssl://pkc-921jm.us-east-2.aws.confluent.cloud:9092/bootstr]: sasl_ssl://pkc-921jm.us-east-2.aws.confluent.cloud:9092/bootstrap: Failed to resolve 'pkc-921jm.us-east-2.aws.confluent.cloud:9092': Temporary failure in name resolution (after 1ms in state CONNECT, 20 identical error(s) suppressed)\n%3|1745953544.546|FAIL|rdkafka#producer-1| [thrd:sasl_ssl://pkc-921jm.us-east-2.aws.confluent.cloud:9092/bootstr]: sasl_ssl://pkc-921jm.us-east-2.aws.confluent.cloud:9092/bootstrap: Failed to resolve 'pkc-921jm.us-east-2.aws.confluent.cloud:9092': Temporary failure in name resolution (after 2ms in state CONNECT, 21 identical error(s) suppressed)\n%3|1745953574.554|FAIL|rdkafka#producer-1| [thrd:sasl_ssl://pkc-921jm.us-east-2.aws.confluent.cloud:9092/bootstr]: sasl_ssl://pkc-921jm.us-east-2.aws.confluent.cloud:9092/bootstrap: Failed to resolve 'pkc-921jm.us-east-2.aws.confluent.cloud:9092': Temporary failure in name resolution (after 1ms in state CONNECT, 20 identical error(s) suppressed)\n%3|1745953605.589|FAIL|rdkafka#producer-1| [thrd:sasl_ssl://pkc-921jm.us-east-2.aws.confluent.cloud:9092/bootstr]: sasl_ssl://pkc-921jm.us-east-2.aws.confluent.cloud:9092/bootstrap: Failed to resolve 'pkc-921jm.us-east-2.aws.confluent.cloud:9092': Temporary failure in name resolution (after 7ms in state CONNECT, 21 identical error(s) suppressed)\n%3|1745953635.600|FAIL|rdkafka#producer-1| [thrd:sasl_ssl://pkc-921jm.us-east-2.aws.confluent.cloud:9092/bootstr]: sasl_ssl://pkc-921jm.us-east-2.aws.confluent.cloud:9092/bootstrap: Failed to resolve 'pkc-921jm.us-east-2.aws.confluent.cloud:9092': Temporary failure in name resolution (after 1ms in state CONNECT, 20 identical error(s) suppressed)\n%3|1745953666.623|FAIL|rdkafka#producer-1| [thrd:sasl_ssl://pkc-921jm.us-east-2.aws.confluent.cloud:9092/bootstr]: sasl_ssl://pkc-921jm.us-east-2.aws.confluent.cloud:9092/bootstrap: Failed to resolve 'pkc-921jm.us-east-2.aws.confluent.cloud:9092': Temporary failure in name resolution (after 5ms in state CONNECT, 21 identical error(s) suppressed)\n"
     ]
    },
    {
     "output_type": "stream",
     "name": "stdout",
     "output_type": "stream",
     "text": [
      "message is not delivered: KafkaError{code=_MSG_TIMED_OUT,val=-192,str=\"Local: Message timed out\"}\n"
     ]
    },
    {
     "output_type": "stream",
     "name": "stderr",
     "output_type": "stream",
     "text": [
      "%3|1745953697.636|FAIL|rdkafka#producer-1| [thrd:sasl_ssl://pkc-921jm.us-east-2.aws.confluent.cloud:9092/bootstr]: sasl_ssl://pkc-921jm.us-east-2.aws.confluent.cloud:9092/bootstrap: Failed to resolve 'pkc-921jm.us-east-2.aws.confluent.cloud:9092': Temporary failure in name resolution (after 1ms in state CONNECT, 21 identical error(s) suppressed)\n%3|1745953727.651|FAIL|rdkafka#producer-1| [thrd:sasl_ssl://pkc-921jm.us-east-2.aws.confluent.cloud:9092/bootstr]: sasl_ssl://pkc-921jm.us-east-2.aws.confluent.cloud:9092/bootstrap: Failed to resolve 'pkc-921jm.us-east-2.aws.confluent.cloud:9092': Temporary failure in name resolution (after 2ms in state CONNECT, 20 identical error(s) suppressed)\n%3|1745953757.653|FAIL|rdkafka#producer-1| [thrd:sasl_ssl://pkc-921jm.us-east-2.aws.confluent.cloud:9092/bootstr]: sasl_ssl://pkc-921jm.us-east-2.aws.confluent.cloud:9092/bootstrap: Failed to resolve 'pkc-921jm.us-east-2.aws.confluent.cloud:9092': Temporary failure in name resolution (after 1ms in state CONNECT, 20 identical error(s) suppressed)\n%3|1745953788.670|FAIL|rdkafka#producer-1| [thrd:sasl_ssl://pkc-921jm.us-east-2.aws.confluent.cloud:9092/bootstr]: sasl_ssl://pkc-921jm.us-east-2.aws.confluent.cloud:9092/bootstrap: Failed to resolve 'pkc-921jm.us-east-2.aws.confluent.cloud:9092': Temporary failure in name resolution (after 1ms in state CONNECT, 21 identical error(s) suppressed)\n%3|1745953819.692|FAIL|rdkafka#producer-1| [thrd:sasl_ssl://pkc-921jm.us-east-2.aws.confluent.cloud:9092/bootstr]: sasl_ssl://pkc-921jm.us-east-2.aws.confluent.cloud:9092/bootstrap: Failed to resolve 'pkc-921jm.us-east-2.aws.confluent.cloud:9092': Temporary failure in name resolution (after 1ms in state CONNECT, 21 identical error(s) suppressed)\n%3|1745953849.727|FAIL|rdkafka#producer-1| [thrd:sasl_ssl://pkc-921jm.us-east-2.aws.confluent.cloud:9092/bootstr]: sasl_ssl://pkc-921jm.us-east-2.aws.confluent.cloud:9092/bootstrap: Failed to resolve 'pkc-921jm.us-east-2.aws.confluent.cloud:9092': Temporary failure in name resolution (after 2ms in state CONNECT, 21 identical error(s) suppressed)\n%3|1745953879.728|FAIL|rdkafka#producer-1| [thrd:sasl_ssl://pkc-921jm.us-east-2.aws.confluent.cloud:9092/bootstr]: sasl_ssl://pkc-921jm.us-east-2.aws.confluent.cloud:9092/bootstrap: Failed to resolve 'pkc-921jm.us-east-2.aws.confluent.cloud:9092': Temporary failure in name resolution (after 1ms in state CONNECT, 20 identical error(s) suppressed)\n%3|1745953910.743|FAIL|rdkafka#producer-1| [thrd:sasl_ssl://pkc-921jm.us-east-2.aws.confluent.cloud:9092/bootstr]: sasl_ssl://pkc-921jm.us-east-2.aws.confluent.cloud:9092/bootstrap: Failed to resolve 'pkc-921jm.us-east-2.aws.confluent.cloud:9092': Temporary failure in name resolution (after 2ms in state CONNECT, 21 identical error(s) suppressed)\n%3|1745953940.751|FAIL|rdkafka#producer-1| [thrd:sasl_ssl://pkc-921jm.us-east-2.aws.confluent.cloud:9092/bootstr]: sasl_ssl://pkc-921jm.us-east-2.aws.confluent.cloud:9092/bootstrap: Failed to resolve 'pkc-921jm.us-east-2.aws.confluent.cloud:9092': Temporary failure in name resolution (after 1ms in state CONNECT, 20 identical error(s) suppressed)\n%3|1745953970.757|FAIL|rdkafka#producer-1| [thrd:sasl_ssl://pkc-921jm.us-east-2.aws.confluent.cloud:9092/bootstr]: sasl_ssl://pkc-921jm.us-east-2.aws.confluent.cloud:9092/bootstrap: Failed to resolve 'pkc-921jm.us-east-2.aws.confluent.cloud:9092': Temporary failure in name resolution (after 2ms in state CONNECT, 20 identical error(s) suppressed)\n"
     ]
    },
    {
     "output_type": "stream",
     "name": "stdout",
     "output_type": "stream",
     "text": [
      "message is not delivered: KafkaError{code=_MSG_TIMED_OUT,val=-192,str=\"Local: Message timed out\"}\n"
     ]
    },
    {
     "output_type": "stream",
     "name": "stderr",
     "output_type": "stream",
     "text": [
      "%3|1745954000.825|FAIL|rdkafka#producer-1| [thrd:sasl_ssl://pkc-921jm.us-east-2.aws.confluent.cloud:9092/bootstr]: sasl_ssl://pkc-921jm.us-east-2.aws.confluent.cloud:9092/bootstrap: Failed to resolve 'pkc-921jm.us-east-2.aws.confluent.cloud:9092': Temporary failure in name resolution (after 1ms in state CONNECT, 20 identical error(s) suppressed)\n%3|1745954030.830|FAIL|rdkafka#producer-1| [thrd:sasl_ssl://pkc-921jm.us-east-2.aws.confluent.cloud:9092/bootstr]: sasl_ssl://pkc-921jm.us-east-2.aws.confluent.cloud:9092/bootstrap: Failed to resolve 'pkc-921jm.us-east-2.aws.confluent.cloud:9092': Temporary failure in name resolution (after 1ms in state CONNECT, 20 identical error(s) suppressed)\n%3|1745954060.835|FAIL|rdkafka#producer-1| [thrd:sasl_ssl://pkc-921jm.us-east-2.aws.confluent.cloud:9092/bootstr]: sasl_ssl://pkc-921jm.us-east-2.aws.confluent.cloud:9092/bootstrap: Failed to resolve 'pkc-921jm.us-east-2.aws.confluent.cloud:9092': Temporary failure in name resolution (after 1ms in state CONNECT, 20 identical error(s) suppressed)\n%3|1745954091.859|FAIL|rdkafka#producer-1| [thrd:sasl_ssl://pkc-921jm.us-east-2.aws.confluent.cloud:9092/bootstr]: sasl_ssl://pkc-921jm.us-east-2.aws.confluent.cloud:9092/bootstrap: Failed to resolve 'pkc-921jm.us-east-2.aws.confluent.cloud:9092': Temporary failure in name resolution (after 1ms in state CONNECT, 21 identical error(s) suppressed)\n%3|1745954121.869|FAIL|rdkafka#producer-1| [thrd:sasl_ssl://pkc-921jm.us-east-2.aws.confluent.cloud:9092/bootstr]: sasl_ssl://pkc-921jm.us-east-2.aws.confluent.cloud:9092/bootstrap: Failed to resolve 'pkc-921jm.us-east-2.aws.confluent.cloud:9092': Temporary failure in name resolution (after 2ms in state CONNECT, 20 identical error(s) suppressed)\n%3|1745954152.879|FAIL|rdkafka#producer-1| [thrd:sasl_ssl://pkc-921jm.us-east-2.aws.confluent.cloud:9092/bootstr]: sasl_ssl://pkc-921jm.us-east-2.aws.confluent.cloud:9092/bootstrap: Failed to resolve 'pkc-921jm.us-east-2.aws.confluent.cloud:9092': Temporary failure in name resolution (after 1ms in state CONNECT, 21 identical error(s) suppressed)\n%3|1745954182.886|FAIL|rdkafka#producer-1| [thrd:sasl_ssl://pkc-921jm.us-east-2.aws.confluent.cloud:9092/bootstr]: sasl_ssl://pkc-921jm.us-east-2.aws.confluent.cloud:9092/bootstrap: Failed to resolve 'pkc-921jm.us-east-2.aws.confluent.cloud:9092': Temporary failure in name resolution (after 1ms in state CONNECT, 20 identical error(s) suppressed)\n%3|1745954213.900|FAIL|rdkafka#producer-1| [thrd:sasl_ssl://pkc-921jm.us-east-2.aws.confluent.cloud:9092/bootstr]: sasl_ssl://pkc-921jm.us-east-2.aws.confluent.cloud:9092/bootstrap: Failed to resolve 'pkc-921jm.us-east-2.aws.confluent.cloud:9092': Temporary failure in name resolution (after 2ms in state CONNECT, 21 identical error(s) suppressed)\n%3|1745954243.905|FAIL|rdkafka#producer-1| [thrd:sasl_ssl://pkc-921jm.us-east-2.aws.confluent.cloud:9092/bootstr]: sasl_ssl://pkc-921jm.us-east-2.aws.confluent.cloud:9092/bootstrap: Failed to resolve 'pkc-921jm.us-east-2.aws.confluent.cloud:9092': Temporary failure in name resolution (after 2ms in state CONNECT, 20 identical error(s) suppressed)\n%3|1745954273.909|FAIL|rdkafka#producer-1| [thrd:sasl_ssl://pkc-921jm.us-east-2.aws.confluent.cloud:9092/bootstr]: sasl_ssl://pkc-921jm.us-east-2.aws.confluent.cloud:9092/bootstrap: Failed to resolve 'pkc-921jm.us-east-2.aws.confluent.cloud:9092': Temporary failure in name resolution (after 1ms in state CONNECT, 20 identical error(s) suppressed)\n"
     ]
    },
    {
     "output_type": "stream",
     "name": "stdout",
     "output_type": "stream",
     "text": [
      "message is not delivered: KafkaError{code=_MSG_TIMED_OUT,val=-192,str=\"Local: Message timed out\"}\n"
     ]
    },
    {
     "output_type": "stream",
     "name": "stderr",
     "output_type": "stream",
     "text": [
      "%3|1745954303.914|FAIL|rdkafka#producer-1| [thrd:sasl_ssl://pkc-921jm.us-east-2.aws.confluent.cloud:9092/bootstr]: sasl_ssl://pkc-921jm.us-east-2.aws.confluent.cloud:9092/bootstrap: Failed to resolve 'pkc-921jm.us-east-2.aws.confluent.cloud:9092': Temporary failure in name resolution (after 1ms in state CONNECT, 20 identical error(s) suppressed)\n%3|1745954333.919|FAIL|rdkafka#producer-1| [thrd:sasl_ssl://pkc-921jm.us-east-2.aws.confluent.cloud:9092/bootstr]: sasl_ssl://pkc-921jm.us-east-2.aws.confluent.cloud:9092/bootstrap: Failed to resolve 'pkc-921jm.us-east-2.aws.confluent.cloud:9092': Temporary failure in name resolution (after 1ms in state CONNECT, 20 identical error(s) suppressed)\n%3|1745954364.926|FAIL|rdkafka#producer-1| [thrd:sasl_ssl://pkc-921jm.us-east-2.aws.confluent.cloud:9092/bootstr]: sasl_ssl://pkc-921jm.us-east-2.aws.confluent.cloud:9092/bootstrap: Failed to resolve 'pkc-921jm.us-east-2.aws.confluent.cloud:9092': Temporary failure in name resolution (after 1ms in state CONNECT, 21 identical error(s) suppressed)\n%3|1745954394.931|FAIL|rdkafka#producer-1| [thrd:sasl_ssl://pkc-921jm.us-east-2.aws.confluent.cloud:9092/bootstr]: sasl_ssl://pkc-921jm.us-east-2.aws.confluent.cloud:9092/bootstrap: Failed to resolve 'pkc-921jm.us-east-2.aws.confluent.cloud:9092': Temporary failure in name resolution (after 1ms in state CONNECT, 20 identical error(s) suppressed)\n%3|1745954424.940|FAIL|rdkafka#producer-1| [thrd:sasl_ssl://pkc-921jm.us-east-2.aws.confluent.cloud:9092/bootstr]: sasl_ssl://pkc-921jm.us-east-2.aws.confluent.cloud:9092/bootstrap: Failed to resolve 'pkc-921jm.us-east-2.aws.confluent.cloud:9092': Temporary failure in name resolution (after 1ms in state CONNECT, 20 identical error(s) suppressed)\n%3|1745954454.945|FAIL|rdkafka#producer-1| [thrd:sasl_ssl://pkc-921jm.us-east-2.aws.confluent.cloud:9092/bootstr]: sasl_ssl://pkc-921jm.us-east-2.aws.confluent.cloud:9092/bootstrap: Failed to resolve 'pkc-921jm.us-east-2.aws.confluent.cloud:9092': Temporary failure in name resolution (after 1ms in state CONNECT, 20 identical error(s) suppressed)\n%3|1745954484.949|FAIL|rdkafka#producer-1| [thrd:sasl_ssl://pkc-921jm.us-east-2.aws.confluent.cloud:9092/bootstr]: sasl_ssl://pkc-921jm.us-east-2.aws.confluent.cloud:9092/bootstrap: Failed to resolve 'pkc-921jm.us-east-2.aws.confluent.cloud:9092': Temporary failure in name resolution (after 1ms in state CONNECT, 20 identical error(s) suppressed)\n%3|1745954514.954|FAIL|rdkafka#producer-1| [thrd:sasl_ssl://pkc-921jm.us-east-2.aws.confluent.cloud:9092/bootstr]: sasl_ssl://pkc-921jm.us-east-2.aws.confluent.cloud:9092/bootstrap: Failed to resolve 'pkc-921jm.us-east-2.aws.confluent.cloud:9092': Temporary failure in name resolution (after 1ms in state CONNECT, 20 identical error(s) suppressed)\n%3|1745954544.959|FAIL|rdkafka#producer-1| [thrd:sasl_ssl://pkc-921jm.us-east-2.aws.confluent.cloud:9092/bootstr]: sasl_ssl://pkc-921jm.us-east-2.aws.confluent.cloud:9092/bootstrap: Failed to resolve 'pkc-921jm.us-east-2.aws.confluent.cloud:9092': Temporary failure in name resolution (after 1ms in state CONNECT, 20 identical error(s) suppressed)\n%3|1745954574.965|FAIL|rdkafka#producer-1| [thrd:sasl_ssl://pkc-921jm.us-east-2.aws.confluent.cloud:9092/bootstr]: sasl_ssl://pkc-921jm.us-east-2.aws.confluent.cloud:9092/bootstrap: Failed to resolve 'pkc-921jm.us-east-2.aws.confluent.cloud:9092': Temporary failure in name resolution (after 2ms in state CONNECT, 20 identical error(s) suppressed)\n"
     ]
    },
    {
     "output_type": "stream",
     "name": "stdout",
     "output_type": "stream",
     "text": [
      "message is not delivered: KafkaError{code=_MSG_TIMED_OUT,val=-192,str=\"Local: Message timed out\"}\n"
     ]
    },
    {
     "output_type": "stream",
     "name": "stderr",
     "output_type": "stream",
     "text": [
      "%3|1745954604.975|FAIL|rdkafka#producer-1| [thrd:sasl_ssl://pkc-921jm.us-east-2.aws.confluent.cloud:9092/bootstr]: sasl_ssl://pkc-921jm.us-east-2.aws.confluent.cloud:9092/bootstrap: Failed to resolve 'pkc-921jm.us-east-2.aws.confluent.cloud:9092': Temporary failure in name resolution (after 3ms in state CONNECT, 20 identical error(s) suppressed)\n%3|1745954634.978|FAIL|rdkafka#producer-1| [thrd:sasl_ssl://pkc-921jm.us-east-2.aws.confluent.cloud:9092/bootstr]: sasl_ssl://pkc-921jm.us-east-2.aws.confluent.cloud:9092/bootstrap: Failed to resolve 'pkc-921jm.us-east-2.aws.confluent.cloud:9092': Temporary failure in name resolution (after 1ms in state CONNECT, 20 identical error(s) suppressed)\n%3|1745954664.984|FAIL|rdkafka#producer-1| [thrd:sasl_ssl://pkc-921jm.us-east-2.aws.confluent.cloud:9092/bootstr]: sasl_ssl://pkc-921jm.us-east-2.aws.confluent.cloud:9092/bootstrap: Failed to resolve 'pkc-921jm.us-east-2.aws.confluent.cloud:9092': Temporary failure in name resolution (after 1ms in state CONNECT, 20 identical error(s) suppressed)\n%3|1745954694.988|FAIL|rdkafka#producer-1| [thrd:sasl_ssl://pkc-921jm.us-east-2.aws.confluent.cloud:9092/bootstr]: sasl_ssl://pkc-921jm.us-east-2.aws.confluent.cloud:9092/bootstrap: Failed to resolve 'pkc-921jm.us-east-2.aws.confluent.cloud:9092': Temporary failure in name resolution (after 1ms in state CONNECT, 20 identical error(s) suppressed)\n%3|1745954724.994|FAIL|rdkafka#producer-1| [thrd:sasl_ssl://pkc-921jm.us-east-2.aws.confluent.cloud:9092/bootstr]: sasl_ssl://pkc-921jm.us-east-2.aws.confluent.cloud:9092/bootstrap: Failed to resolve 'pkc-921jm.us-east-2.aws.confluent.cloud:9092': Temporary failure in name resolution (after 2ms in state CONNECT, 20 identical error(s) suppressed)\n%3|1745954754.999|FAIL|rdkafka#producer-1| [thrd:sasl_ssl://pkc-921jm.us-east-2.aws.confluent.cloud:9092/bootstr]: sasl_ssl://pkc-921jm.us-east-2.aws.confluent.cloud:9092/bootstrap: Failed to resolve 'pkc-921jm.us-east-2.aws.confluent.cloud:9092': Temporary failure in name resolution (after 1ms in state CONNECT, 20 identical error(s) suppressed)\n%3|1745954785.003|FAIL|rdkafka#producer-1| [thrd:sasl_ssl://pkc-921jm.us-east-2.aws.confluent.cloud:9092/bootstr]: sasl_ssl://pkc-921jm.us-east-2.aws.confluent.cloud:9092/bootstrap: Failed to resolve 'pkc-921jm.us-east-2.aws.confluent.cloud:9092': Temporary failure in name resolution (after 1ms in state CONNECT, 20 identical error(s) suppressed)\n%3|1745954815.008|FAIL|rdkafka#producer-1| [thrd:sasl_ssl://pkc-921jm.us-east-2.aws.confluent.cloud:9092/bootstr]: sasl_ssl://pkc-921jm.us-east-2.aws.confluent.cloud:9092/bootstrap: Failed to resolve 'pkc-921jm.us-east-2.aws.confluent.cloud:9092': Temporary failure in name resolution (after 2ms in state CONNECT, 20 identical error(s) suppressed)\n%3|1745954845.015|FAIL|rdkafka#producer-1| [thrd:sasl_ssl://pkc-921jm.us-east-2.aws.confluent.cloud:9092/bootstr]: sasl_ssl://pkc-921jm.us-east-2.aws.confluent.cloud:9092/bootstrap: Failed to resolve 'pkc-921jm.us-east-2.aws.confluent.cloud:9092': Temporary failure in name resolution (after 2ms in state CONNECT, 20 identical error(s) suppressed)\n%3|1745954875.020|FAIL|rdkafka#producer-1| [thrd:sasl_ssl://pkc-921jm.us-east-2.aws.confluent.cloud:9092/bootstr]: sasl_ssl://pkc-921jm.us-east-2.aws.confluent.cloud:9092/bootstrap: Failed to resolve 'pkc-921jm.us-east-2.aws.confluent.cloud:9092': Temporary failure in name resolution (after 1ms in state CONNECT, 20 identical error(s) suppressed)\n"
     ]
    },
    {
     "output_type": "stream",
     "name": "stdout",
     "output_type": "stream",
     "text": [
      "message is not delivered: KafkaError{code=_MSG_TIMED_OUT,val=-192,str=\"Local: Message timed out\"}\n"
     ]
    },
    {
     "output_type": "stream",
     "name": "stderr",
     "output_type": "stream",
     "text": [
      "%3|1745954905.024|FAIL|rdkafka#producer-1| [thrd:sasl_ssl://pkc-921jm.us-east-2.aws.confluent.cloud:9092/bootstr]: sasl_ssl://pkc-921jm.us-east-2.aws.confluent.cloud:9092/bootstrap: Failed to resolve 'pkc-921jm.us-east-2.aws.confluent.cloud:9092': Temporary failure in name resolution (after 1ms in state CONNECT, 20 identical error(s) suppressed)\n%3|1745954935.031|FAIL|rdkafka#producer-1| [thrd:sasl_ssl://pkc-921jm.us-east-2.aws.confluent.cloud:9092/bootstr]: sasl_ssl://pkc-921jm.us-east-2.aws.confluent.cloud:9092/bootstrap: Failed to resolve 'pkc-921jm.us-east-2.aws.confluent.cloud:9092': Temporary failure in name resolution (after 1ms in state CONNECT, 20 identical error(s) suppressed)\n%3|1745954965.039|FAIL|rdkafka#producer-1| [thrd:sasl_ssl://pkc-921jm.us-east-2.aws.confluent.cloud:9092/bootstr]: sasl_ssl://pkc-921jm.us-east-2.aws.confluent.cloud:9092/bootstrap: Failed to resolve 'pkc-921jm.us-east-2.aws.confluent.cloud:9092': Temporary failure in name resolution (after 2ms in state CONNECT, 20 identical error(s) suppressed)\n%3|1745954995.044|FAIL|rdkafka#producer-1| [thrd:sasl_ssl://pkc-921jm.us-east-2.aws.confluent.cloud:9092/bootstr]: sasl_ssl://pkc-921jm.us-east-2.aws.confluent.cloud:9092/bootstrap: Failed to resolve 'pkc-921jm.us-east-2.aws.confluent.cloud:9092': Temporary failure in name resolution (after 1ms in state CONNECT, 20 identical error(s) suppressed)\n%3|1745955025.048|FAIL|rdkafka#producer-1| [thrd:sasl_ssl://pkc-921jm.us-east-2.aws.confluent.cloud:9092/bootstr]: sasl_ssl://pkc-921jm.us-east-2.aws.confluent.cloud:9092/bootstrap: Failed to resolve 'pkc-921jm.us-east-2.aws.confluent.cloud:9092': Temporary failure in name resolution (after 1ms in state CONNECT, 20 identical error(s) suppressed)\n%3|1745955055.057|FAIL|rdkafka#producer-1| [thrd:sasl_ssl://pkc-921jm.us-east-2.aws.confluent.cloud:9092/bootstr]: sasl_ssl://pkc-921jm.us-east-2.aws.confluent.cloud:9092/bootstrap: Failed to resolve 'pkc-921jm.us-east-2.aws.confluent.cloud:9092': Temporary failure in name resolution (after 2ms in state CONNECT, 20 identical error(s) suppressed)\n%3|1745955086.064|FAIL|rdkafka#producer-1| [thrd:sasl_ssl://pkc-921jm.us-east-2.aws.confluent.cloud:9092/bootstr]: sasl_ssl://pkc-921jm.us-east-2.aws.confluent.cloud:9092/bootstrap: Failed to resolve 'pkc-921jm.us-east-2.aws.confluent.cloud:9092': Temporary failure in name resolution (after 1ms in state CONNECT, 21 identical error(s) suppressed)\n%3|1745955116.071|FAIL|rdkafka#producer-1| [thrd:sasl_ssl://pkc-921jm.us-east-2.aws.confluent.cloud:9092/bootstr]: sasl_ssl://pkc-921jm.us-east-2.aws.confluent.cloud:9092/bootstrap: Failed to resolve 'pkc-921jm.us-east-2.aws.confluent.cloud:9092': Temporary failure in name resolution (after 1ms in state CONNECT, 20 identical error(s) suppressed)\n%3|1745955146.079|FAIL|rdkafka#producer-1| [thrd:sasl_ssl://pkc-921jm.us-east-2.aws.confluent.cloud:9092/bootstr]: sasl_ssl://pkc-921jm.us-east-2.aws.confluent.cloud:9092/bootstrap: Failed to resolve 'pkc-921jm.us-east-2.aws.confluent.cloud:9092': Temporary failure in name resolution (after 1ms in state CONNECT, 20 identical error(s) suppressed)\n%3|1745955176.085|FAIL|rdkafka#producer-1| [thrd:sasl_ssl://pkc-921jm.us-east-2.aws.confluent.cloud:9092/bootstr]: sasl_ssl://pkc-921jm.us-east-2.aws.confluent.cloud:9092/bootstrap: Failed to resolve 'pkc-921jm.us-east-2.aws.confluent.cloud:9092': Temporary failure in name resolution (after 1ms in state CONNECT, 20 identical error(s) suppressed)\n"
     ]
    },
    {
     "output_type": "stream",
     "name": "stdout",
     "output_type": "stream",
     "text": [
      "message is not delivered: KafkaError{code=_MSG_TIMED_OUT,val=-192,str=\"Local: Message timed out\"}\n"
     ]
    },
    {
     "output_type": "stream",
     "name": "stderr",
     "output_type": "stream",
     "text": [
      "%3|1745955207.091|FAIL|rdkafka#producer-1| [thrd:sasl_ssl://pkc-921jm.us-east-2.aws.confluent.cloud:9092/bootstr]: sasl_ssl://pkc-921jm.us-east-2.aws.confluent.cloud:9092/bootstrap: Failed to resolve 'pkc-921jm.us-east-2.aws.confluent.cloud:9092': Temporary failure in name resolution (after 1ms in state CONNECT, 21 identical error(s) suppressed)\n%3|1745955237.096|FAIL|rdkafka#producer-1| [thrd:sasl_ssl://pkc-921jm.us-east-2.aws.confluent.cloud:9092/bootstr]: sasl_ssl://pkc-921jm.us-east-2.aws.confluent.cloud:9092/bootstrap: Failed to resolve 'pkc-921jm.us-east-2.aws.confluent.cloud:9092': Temporary failure in name resolution (after 1ms in state CONNECT, 20 identical error(s) suppressed)\n%3|1745955267.100|FAIL|rdkafka#producer-1| [thrd:sasl_ssl://pkc-921jm.us-east-2.aws.confluent.cloud:9092/bootstr]: sasl_ssl://pkc-921jm.us-east-2.aws.confluent.cloud:9092/bootstrap: Failed to resolve 'pkc-921jm.us-east-2.aws.confluent.cloud:9092': Temporary failure in name resolution (after 1ms in state CONNECT, 20 identical error(s) suppressed)\n%3|1745955297.106|FAIL|rdkafka#producer-1| [thrd:sasl_ssl://pkc-921jm.us-east-2.aws.confluent.cloud:9092/bootstr]: sasl_ssl://pkc-921jm.us-east-2.aws.confluent.cloud:9092/bootstrap: Failed to resolve 'pkc-921jm.us-east-2.aws.confluent.cloud:9092': Temporary failure in name resolution (after 2ms in state CONNECT, 20 identical error(s) suppressed)\n%3|1745955327.112|FAIL|rdkafka#producer-1| [thrd:sasl_ssl://pkc-921jm.us-east-2.aws.confluent.cloud:9092/bootstr]: sasl_ssl://pkc-921jm.us-east-2.aws.confluent.cloud:9092/bootstrap: Failed to resolve 'pkc-921jm.us-east-2.aws.confluent.cloud:9092': Temporary failure in name resolution (after 1ms in state CONNECT, 20 identical error(s) suppressed)\n%3|1745955357.117|FAIL|rdkafka#producer-1| [thrd:sasl_ssl://pkc-921jm.us-east-2.aws.confluent.cloud:9092/bootstr]: sasl_ssl://pkc-921jm.us-east-2.aws.confluent.cloud:9092/bootstrap: Failed to resolve 'pkc-921jm.us-east-2.aws.confluent.cloud:9092': Temporary failure in name resolution (after 1ms in state CONNECT, 20 identical error(s) suppressed)\n%3|1745955388.125|FAIL|rdkafka#producer-1| [thrd:sasl_ssl://pkc-921jm.us-east-2.aws.confluent.cloud:9092/bootstr]: sasl_ssl://pkc-921jm.us-east-2.aws.confluent.cloud:9092/bootstrap: Failed to resolve 'pkc-921jm.us-east-2.aws.confluent.cloud:9092': Temporary failure in name resolution (after 1ms in state CONNECT, 21 identical error(s) suppressed)\n%3|1745955418.130|FAIL|rdkafka#producer-1| [thrd:sasl_ssl://pkc-921jm.us-east-2.aws.confluent.cloud:9092/bootstr]: sasl_ssl://pkc-921jm.us-east-2.aws.confluent.cloud:9092/bootstrap: Failed to resolve 'pkc-921jm.us-east-2.aws.confluent.cloud:9092': Temporary failure in name resolution (after 1ms in state CONNECT, 20 identical error(s) suppressed)\n%3|1745955449.138|FAIL|rdkafka#producer-1| [thrd:sasl_ssl://pkc-921jm.us-east-2.aws.confluent.cloud:9092/bootstr]: sasl_ssl://pkc-921jm.us-east-2.aws.confluent.cloud:9092/bootstrap: Failed to resolve 'pkc-921jm.us-east-2.aws.confluent.cloud:9092': Temporary failure in name resolution (after 1ms in state CONNECT, 21 identical error(s) suppressed)\n%3|1745955479.144|FAIL|rdkafka#producer-1| [thrd:sasl_ssl://pkc-921jm.us-east-2.aws.confluent.cloud:9092/bootstr]: sasl_ssl://pkc-921jm.us-east-2.aws.confluent.cloud:9092/bootstrap: Failed to resolve 'pkc-921jm.us-east-2.aws.confluent.cloud:9092': Temporary failure in name resolution (after 1ms in state CONNECT, 20 identical error(s) suppressed)\n"
     ]
    },
    {
     "output_type": "stream",
     "name": "stdout",
     "output_type": "stream",
     "text": [
      "message is not delivered: KafkaError{code=_MSG_TIMED_OUT,val=-192,str=\"Local: Message timed out\"}\n"
     ]
    },
    {
     "output_type": "stream",
     "name": "stderr",
     "output_type": "stream",
     "text": [
      "%3|1745955510.101|FAIL|rdkafka#producer-1| [thrd:sasl_ssl://pkc-921jm.us-east-2.aws.confluent.cloud:9092/bootstr]: sasl_ssl://pkc-921jm.us-east-2.aws.confluent.cloud:9092/bootstrap: Failed to resolve 'pkc-921jm.us-east-2.aws.confluent.cloud:9092': Temporary failure in name resolution (after 1ms in state CONNECT, 21 identical error(s) suppressed)\n%3|1745955540.106|FAIL|rdkafka#producer-1| [thrd:sasl_ssl://pkc-921jm.us-east-2.aws.confluent.cloud:9092/bootstr]: sasl_ssl://pkc-921jm.us-east-2.aws.confluent.cloud:9092/bootstrap: Failed to resolve 'pkc-921jm.us-east-2.aws.confluent.cloud:9092': Temporary failure in name resolution (after 2ms in state CONNECT, 20 identical error(s) suppressed)\n%3|1745955570.113|FAIL|rdkafka#producer-1| [thrd:sasl_ssl://pkc-921jm.us-east-2.aws.confluent.cloud:9092/bootstr]: sasl_ssl://pkc-921jm.us-east-2.aws.confluent.cloud:9092/bootstrap: Failed to resolve 'pkc-921jm.us-east-2.aws.confluent.cloud:9092': Temporary failure in name resolution (after 1ms in state CONNECT, 20 identical error(s) suppressed)\n%3|1745955600.118|FAIL|rdkafka#producer-1| [thrd:sasl_ssl://pkc-921jm.us-east-2.aws.confluent.cloud:9092/bootstr]: sasl_ssl://pkc-921jm.us-east-2.aws.confluent.cloud:9092/bootstrap: Failed to resolve 'pkc-921jm.us-east-2.aws.confluent.cloud:9092': Temporary failure in name resolution (after 1ms in state CONNECT, 20 identical error(s) suppressed)\n%3|1745955630.124|FAIL|rdkafka#producer-1| [thrd:sasl_ssl://pkc-921jm.us-east-2.aws.confluent.cloud:9092/bootstr]: sasl_ssl://pkc-921jm.us-east-2.aws.confluent.cloud:9092/bootstrap: Failed to resolve 'pkc-921jm.us-east-2.aws.confluent.cloud:9092': Temporary failure in name resolution (after 1ms in state CONNECT, 20 identical error(s) suppressed)\n%3|1745955660.130|FAIL|rdkafka#producer-1| [thrd:sasl_ssl://pkc-921jm.us-east-2.aws.confluent.cloud:9092/bootstr]: sasl_ssl://pkc-921jm.us-east-2.aws.confluent.cloud:9092/bootstrap: Failed to resolve 'pkc-921jm.us-east-2.aws.confluent.cloud:9092': Temporary failure in name resolution (after 1ms in state CONNECT, 20 identical error(s) suppressed)\n%3|1745955691.140|FAIL|rdkafka#producer-1| [thrd:sasl_ssl://pkc-921jm.us-east-2.aws.confluent.cloud:9092/bootstr]: sasl_ssl://pkc-921jm.us-east-2.aws.confluent.cloud:9092/bootstrap: Failed to resolve 'pkc-921jm.us-east-2.aws.confluent.cloud:9092': Temporary failure in name resolution (after 1ms in state CONNECT, 21 identical error(s) suppressed)\n%3|1745955721.145|FAIL|rdkafka#producer-1| [thrd:sasl_ssl://pkc-921jm.us-east-2.aws.confluent.cloud:9092/bootstr]: sasl_ssl://pkc-921jm.us-east-2.aws.confluent.cloud:9092/bootstrap: Failed to resolve 'pkc-921jm.us-east-2.aws.confluent.cloud:9092': Temporary failure in name resolution (after 1ms in state CONNECT, 20 identical error(s) suppressed)\n%3|1745955751.150|FAIL|rdkafka#producer-1| [thrd:sasl_ssl://pkc-921jm.us-east-2.aws.confluent.cloud:9092/bootstr]: sasl_ssl://pkc-921jm.us-east-2.aws.confluent.cloud:9092/bootstrap: Failed to resolve 'pkc-921jm.us-east-2.aws.confluent.cloud:9092': Temporary failure in name resolution (after 1ms in state CONNECT, 20 identical error(s) suppressed)\n%3|1745955781.155|FAIL|rdkafka#producer-1| [thrd:sasl_ssl://pkc-921jm.us-east-2.aws.confluent.cloud:9092/bootstr]: sasl_ssl://pkc-921jm.us-east-2.aws.confluent.cloud:9092/bootstrap: Failed to resolve 'pkc-921jm.us-east-2.aws.confluent.cloud:9092': Temporary failure in name resolution (after 1ms in state CONNECT, 20 identical error(s) suppressed)\n"
     ]
    },
    {
     "output_type": "stream",
     "name": "stdout",
     "output_type": "stream",
     "text": [
      "message is not delivered: KafkaError{code=_MSG_TIMED_OUT,val=-192,str=\"Local: Message timed out\"}\n"
     ]
    },
    {
     "output_type": "stream",
     "name": "stderr",
     "output_type": "stream",
     "text": [
      "%3|1745955811.160|FAIL|rdkafka#producer-1| [thrd:sasl_ssl://pkc-921jm.us-east-2.aws.confluent.cloud:9092/bootstr]: sasl_ssl://pkc-921jm.us-east-2.aws.confluent.cloud:9092/bootstrap: Failed to resolve 'pkc-921jm.us-east-2.aws.confluent.cloud:9092': Temporary failure in name resolution (after 1ms in state CONNECT, 20 identical error(s) suppressed)\n%3|1745955841.165|FAIL|rdkafka#producer-1| [thrd:sasl_ssl://pkc-921jm.us-east-2.aws.confluent.cloud:9092/bootstr]: sasl_ssl://pkc-921jm.us-east-2.aws.confluent.cloud:9092/bootstrap: Failed to resolve 'pkc-921jm.us-east-2.aws.confluent.cloud:9092': Temporary failure in name resolution (after 1ms in state CONNECT, 20 identical error(s) suppressed)\n%3|1745955871.171|FAIL|rdkafka#producer-1| [thrd:sasl_ssl://pkc-921jm.us-east-2.aws.confluent.cloud:9092/bootstr]: sasl_ssl://pkc-921jm.us-east-2.aws.confluent.cloud:9092/bootstrap: Failed to resolve 'pkc-921jm.us-east-2.aws.confluent.cloud:9092': Temporary failure in name resolution (after 1ms in state CONNECT, 20 identical error(s) suppressed)\n%3|1745955901.176|FAIL|rdkafka#producer-1| [thrd:sasl_ssl://pkc-921jm.us-east-2.aws.confluent.cloud:9092/bootstr]: sasl_ssl://pkc-921jm.us-east-2.aws.confluent.cloud:9092/bootstrap: Failed to resolve 'pkc-921jm.us-east-2.aws.confluent.cloud:9092': Temporary failure in name resolution (after 2ms in state CONNECT, 20 identical error(s) suppressed)\n%3|1745955931.180|FAIL|rdkafka#producer-1| [thrd:sasl_ssl://pkc-921jm.us-east-2.aws.confluent.cloud:9092/bootstr]: sasl_ssl://pkc-921jm.us-east-2.aws.confluent.cloud:9092/bootstrap: Failed to resolve 'pkc-921jm.us-east-2.aws.confluent.cloud:9092': Temporary failure in name resolution (after 1ms in state CONNECT, 20 identical error(s) suppressed)\n%3|1745955961.185|FAIL|rdkafka#producer-1| [thrd:sasl_ssl://pkc-921jm.us-east-2.aws.confluent.cloud:9092/bootstr]: sasl_ssl://pkc-921jm.us-east-2.aws.confluent.cloud:9092/bootstrap: Failed to resolve 'pkc-921jm.us-east-2.aws.confluent.cloud:9092': Temporary failure in name resolution (after 1ms in state CONNECT, 20 identical error(s) suppressed)\n%3|1745955991.196|FAIL|rdkafka#producer-1| [thrd:sasl_ssl://pkc-921jm.us-east-2.aws.confluent.cloud:9092/bootstr]: sasl_ssl://pkc-921jm.us-east-2.aws.confluent.cloud:9092/bootstrap: Failed to resolve 'pkc-921jm.us-east-2.aws.confluent.cloud:9092': Temporary failure in name resolution (after 2ms in state CONNECT, 20 identical error(s) suppressed)\n%3|1745956022.210|FAIL|rdkafka#producer-1| [thrd:sasl_ssl://pkc-921jm.us-east-2.aws.confluent.cloud:9092/bootstr]: sasl_ssl://pkc-921jm.us-east-2.aws.confluent.cloud:9092/bootstrap: Failed to resolve 'pkc-921jm.us-east-2.aws.confluent.cloud:9092': Temporary failure in name resolution (after 1ms in state CONNECT, 21 identical error(s) suppressed)\n%3|1745956052.219|FAIL|rdkafka#producer-1| [thrd:sasl_ssl://pkc-921jm.us-east-2.aws.confluent.cloud:9092/bootstr]: sasl_ssl://pkc-921jm.us-east-2.aws.confluent.cloud:9092/bootstrap: Failed to resolve 'pkc-921jm.us-east-2.aws.confluent.cloud:9092': Temporary failure in name resolution (after 2ms in state CONNECT, 20 identical error(s) suppressed)\n%3|1745956082.223|FAIL|rdkafka#producer-1| [thrd:sasl_ssl://pkc-921jm.us-east-2.aws.confluent.cloud:9092/bootstr]: sasl_ssl://pkc-921jm.us-east-2.aws.confluent.cloud:9092/bootstrap: Failed to resolve 'pkc-921jm.us-east-2.aws.confluent.cloud:9092': Temporary failure in name resolution (after 1ms in state CONNECT, 20 identical error(s) suppressed)\n"
     ]
    },
    {
     "output_type": "stream",
     "name": "stdout",
     "output_type": "stream",
     "text": [
      "message is not delivered: KafkaError{code=_MSG_TIMED_OUT,val=-192,str=\"Local: Message timed out\"}\n"
     ]
    },
    {
     "output_type": "stream",
     "name": "stderr",
     "output_type": "stream",
     "text": [
      "%3|1745956112.230|FAIL|rdkafka#producer-1| [thrd:sasl_ssl://pkc-921jm.us-east-2.aws.confluent.cloud:9092/bootstr]: sasl_ssl://pkc-921jm.us-east-2.aws.confluent.cloud:9092/bootstrap: Failed to resolve 'pkc-921jm.us-east-2.aws.confluent.cloud:9092': Temporary failure in name resolution (after 1ms in state CONNECT, 20 identical error(s) suppressed)\n%3|1745956142.236|FAIL|rdkafka#producer-1| [thrd:sasl_ssl://pkc-921jm.us-east-2.aws.confluent.cloud:9092/bootstr]: sasl_ssl://pkc-921jm.us-east-2.aws.confluent.cloud:9092/bootstrap: Failed to resolve 'pkc-921jm.us-east-2.aws.confluent.cloud:9092': Temporary failure in name resolution (after 1ms in state CONNECT, 20 identical error(s) suppressed)\n%3|1745956172.245|FAIL|rdkafka#producer-1| [thrd:sasl_ssl://pkc-921jm.us-east-2.aws.confluent.cloud:9092/bootstr]: sasl_ssl://pkc-921jm.us-east-2.aws.confluent.cloud:9092/bootstrap: Failed to resolve 'pkc-921jm.us-east-2.aws.confluent.cloud:9092': Temporary failure in name resolution (after 1ms in state CONNECT, 20 identical error(s) suppressed)\n%3|1745956202.255|FAIL|rdkafka#producer-1| [thrd:sasl_ssl://pkc-921jm.us-east-2.aws.confluent.cloud:9092/bootstr]: sasl_ssl://pkc-921jm.us-east-2.aws.confluent.cloud:9092/bootstrap: Failed to resolve 'pkc-921jm.us-east-2.aws.confluent.cloud:9092': Temporary failure in name resolution (after 2ms in state CONNECT, 20 identical error(s) suppressed)\n%3|1745956233.267|FAIL|rdkafka#producer-1| [thrd:sasl_ssl://pkc-921jm.us-east-2.aws.confluent.cloud:9092/bootstr]: sasl_ssl://pkc-921jm.us-east-2.aws.confluent.cloud:9092/bootstrap: Failed to resolve 'pkc-921jm.us-east-2.aws.confluent.cloud:9092': Temporary failure in name resolution (after 1ms in state CONNECT, 21 identical error(s) suppressed)\n%3|1745956264.277|FAIL|rdkafka#producer-1| [thrd:sasl_ssl://pkc-921jm.us-east-2.aws.confluent.cloud:9092/bootstr]: sasl_ssl://pkc-921jm.us-east-2.aws.confluent.cloud:9092/bootstrap: Failed to resolve 'pkc-921jm.us-east-2.aws.confluent.cloud:9092': Temporary failure in name resolution (after 1ms in state CONNECT, 21 identical error(s) suppressed)\n%3|1745956295.290|FAIL|rdkafka#producer-1| [thrd:sasl_ssl://pkc-921jm.us-east-2.aws.confluent.cloud:9092/bootstr]: sasl_ssl://pkc-921jm.us-east-2.aws.confluent.cloud:9092/bootstrap: Failed to resolve 'pkc-921jm.us-east-2.aws.confluent.cloud:9092': Temporary failure in name resolution (after 1ms in state CONNECT, 21 identical error(s) suppressed)\n%3|1745956326.299|FAIL|rdkafka#producer-1| [thrd:sasl_ssl://pkc-921jm.us-east-2.aws.confluent.cloud:9092/bootstr]: sasl_ssl://pkc-921jm.us-east-2.aws.confluent.cloud:9092/bootstrap: Failed to resolve 'pkc-921jm.us-east-2.aws.confluent.cloud:9092': Temporary failure in name resolution (after 1ms in state CONNECT, 21 identical error(s) suppressed)\n%3|1745956356.306|FAIL|rdkafka#producer-1| [thrd:sasl_ssl://pkc-921jm.us-east-2.aws.confluent.cloud:9092/bootstr]: sasl_ssl://pkc-921jm.us-east-2.aws.confluent.cloud:9092/bootstrap: Failed to resolve 'pkc-921jm.us-east-2.aws.confluent.cloud:9092': Temporary failure in name resolution (after 2ms in state CONNECT, 20 identical error(s) suppressed)\n%3|1745956387.319|FAIL|rdkafka#producer-1| [thrd:sasl_ssl://pkc-921jm.us-east-2.aws.confluent.cloud:9092/bootstr]: sasl_ssl://pkc-921jm.us-east-2.aws.confluent.cloud:9092/bootstrap: Failed to resolve 'pkc-921jm.us-east-2.aws.confluent.cloud:9092': Temporary failure in name resolution (after 1ms in state CONNECT, 22 identical error(s) suppressed)\n"
     ]
    },
    {
     "output_type": "stream",
     "name": "stdout",
     "output_type": "stream",
     "text": [
      "message is not delivered: KafkaError{code=_MSG_TIMED_OUT,val=-192,str=\"Local: Message timed out\"}\n"
     ]
    },
    {
     "output_type": "stream",
     "name": "stderr",
     "output_type": "stream",
     "text": [
      "%3|1745956417.333|FAIL|rdkafka#producer-1| [thrd:sasl_ssl://pkc-921jm.us-east-2.aws.confluent.cloud:9092/bootstr]: sasl_ssl://pkc-921jm.us-east-2.aws.confluent.cloud:9092/bootstrap: Failed to resolve 'pkc-921jm.us-east-2.aws.confluent.cloud:9092': Temporary failure in name resolution (after 3ms in state CONNECT, 20 identical error(s) suppressed)\n%3|1745956447.337|FAIL|rdkafka#producer-1| [thrd:sasl_ssl://pkc-921jm.us-east-2.aws.confluent.cloud:9092/bootstr]: sasl_ssl://pkc-921jm.us-east-2.aws.confluent.cloud:9092/bootstrap: Failed to resolve 'pkc-921jm.us-east-2.aws.confluent.cloud:9092': Temporary failure in name resolution (after 1ms in state CONNECT, 20 identical error(s) suppressed)\n%3|1745956477.345|FAIL|rdkafka#producer-1| [thrd:sasl_ssl://pkc-921jm.us-east-2.aws.confluent.cloud:9092/bootstr]: sasl_ssl://pkc-921jm.us-east-2.aws.confluent.cloud:9092/bootstrap: Failed to resolve 'pkc-921jm.us-east-2.aws.confluent.cloud:9092': Temporary failure in name resolution (after 3ms in state CONNECT, 20 identical error(s) suppressed)\n%3|1745956508.373|FAIL|rdkafka#producer-1| [thrd:sasl_ssl://pkc-921jm.us-east-2.aws.confluent.cloud:9092/bootstr]: sasl_ssl://pkc-921jm.us-east-2.aws.confluent.cloud:9092/bootstrap: Failed to resolve 'pkc-921jm.us-east-2.aws.confluent.cloud:9092': Temporary failure in name resolution (after 1ms in state CONNECT, 21 identical error(s) suppressed)\n%3|1745956538.443|FAIL|rdkafka#producer-1| [thrd:sasl_ssl://pkc-921jm.us-east-2.aws.confluent.cloud:9092/bootstr]: sasl_ssl://pkc-921jm.us-east-2.aws.confluent.cloud:9092/bootstrap: Failed to resolve 'pkc-921jm.us-east-2.aws.confluent.cloud:9092': Temporary failure in name resolution (after 1ms in state CONNECT, 21 identical error(s) suppressed)\n%3|1745956569.407|FAIL|rdkafka#producer-1| [thrd:sasl_ssl://pkc-921jm.us-east-2.aws.confluent.cloud:9092/bootstr]: sasl_ssl://pkc-921jm.us-east-2.aws.confluent.cloud:9092/bootstrap: Failed to resolve 'pkc-921jm.us-east-2.aws.confluent.cloud:9092': Temporary failure in name resolution (after 1ms in state CONNECT, 21 identical error(s) suppressed)\n%3|1745956600.421|FAIL|rdkafka#producer-1| [thrd:sasl_ssl://pkc-921jm.us-east-2.aws.confluent.cloud:9092/bootstr]: sasl_ssl://pkc-921jm.us-east-2.aws.confluent.cloud:9092/bootstrap: Failed to resolve 'pkc-921jm.us-east-2.aws.confluent.cloud:9092': Temporary failure in name resolution (after 1ms in state CONNECT, 21 identical error(s) suppressed)\n%3|1745956631.433|FAIL|rdkafka#producer-1| [thrd:sasl_ssl://pkc-921jm.us-east-2.aws.confluent.cloud:9092/bootstr]: sasl_ssl://pkc-921jm.us-east-2.aws.confluent.cloud:9092/bootstrap: Failed to resolve 'pkc-921jm.us-east-2.aws.confluent.cloud:9092': Temporary failure in name resolution (after 1ms in state CONNECT, 21 identical error(s) suppressed)\n%3|1745956662.444|FAIL|rdkafka#producer-1| [thrd:sasl_ssl://pkc-921jm.us-east-2.aws.confluent.cloud:9092/bootstr]: sasl_ssl://pkc-921jm.us-east-2.aws.confluent.cloud:9092/bootstrap: Failed to resolve 'pkc-921jm.us-east-2.aws.confluent.cloud:9092': Temporary failure in name resolution (after 1ms in state CONNECT, 21 identical error(s) suppressed)\n%3|1745956693.452|FAIL|rdkafka#producer-1| [thrd:sasl_ssl://pkc-921jm.us-east-2.aws.confluent.cloud:9092/bootstr]: sasl_ssl://pkc-921jm.us-east-2.aws.confluent.cloud:9092/bootstrap: Failed to resolve 'pkc-921jm.us-east-2.aws.confluent.cloud:9092': Temporary failure in name resolution (after 1ms in state CONNECT, 21 identical error(s) suppressed)\n"
     ]
    },
    {
     "output_type": "stream",
     "name": "stdout",
     "output_type": "stream",
     "text": [
      "message is not delivered: KafkaError{code=_MSG_TIMED_OUT,val=-192,str=\"Local: Message timed out\"}\n"
     ]
    },
    {
     "output_type": "stream",
     "name": "stderr",
     "output_type": "stream",
     "text": [
      "%3|1745956724.467|FAIL|rdkafka#producer-1| [thrd:sasl_ssl://pkc-921jm.us-east-2.aws.confluent.cloud:9092/bootstr]: sasl_ssl://pkc-921jm.us-east-2.aws.confluent.cloud:9092/bootstrap: Failed to resolve 'pkc-921jm.us-east-2.aws.confluent.cloud:9092': Temporary failure in name resolution (after 3ms in state CONNECT, 21 identical error(s) suppressed)\n%3|1745956754.472|FAIL|rdkafka#producer-1| [thrd:sasl_ssl://pkc-921jm.us-east-2.aws.confluent.cloud:9092/bootstr]: sasl_ssl://pkc-921jm.us-east-2.aws.confluent.cloud:9092/bootstrap: Failed to resolve 'pkc-921jm.us-east-2.aws.confluent.cloud:9092': Temporary failure in name resolution (after 1ms in state CONNECT, 20 identical error(s) suppressed)\n%3|1745956784.489|FAIL|rdkafka#producer-1| [thrd:sasl_ssl://pkc-921jm.us-east-2.aws.confluent.cloud:9092/bootstr]: sasl_ssl://pkc-921jm.us-east-2.aws.confluent.cloud:9092/bootstrap: Failed to resolve 'pkc-921jm.us-east-2.aws.confluent.cloud:9092': Temporary failure in name resolution (after 2ms in state CONNECT, 20 identical error(s) suppressed)\n%3|1745956814.496|FAIL|rdkafka#producer-1| [thrd:sasl_ssl://pkc-921jm.us-east-2.aws.confluent.cloud:9092/bootstr]: sasl_ssl://pkc-921jm.us-east-2.aws.confluent.cloud:9092/bootstrap: Failed to resolve 'pkc-921jm.us-east-2.aws.confluent.cloud:9092': Temporary failure in name resolution (after 1ms in state CONNECT, 20 identical error(s) suppressed)\n%3|1745956844.510|FAIL|rdkafka#producer-1| [thrd:sasl_ssl://pkc-921jm.us-east-2.aws.confluent.cloud:9092/bootstr]: sasl_ssl://pkc-921jm.us-east-2.aws.confluent.cloud:9092/bootstrap: Failed to resolve 'pkc-921jm.us-east-2.aws.confluent.cloud:9092': Temporary failure in name resolution (after 1ms in state CONNECT, 20 identical error(s) suppressed)\n%3|1745956874.518|FAIL|rdkafka#producer-1| [thrd:sasl_ssl://pkc-921jm.us-east-2.aws.confluent.cloud:9092/bootstr]: sasl_ssl://pkc-921jm.us-east-2.aws.confluent.cloud:9092/bootstrap: Failed to resolve 'pkc-921jm.us-east-2.aws.confluent.cloud:9092': Temporary failure in name resolution (after 1ms in state CONNECT, 20 identical error(s) suppressed)\n%3|1745956905.544|FAIL|rdkafka#producer-1| [thrd:sasl_ssl://pkc-921jm.us-east-2.aws.confluent.cloud:9092/bootstr]: sasl_ssl://pkc-921jm.us-east-2.aws.confluent.cloud:9092/bootstrap: Failed to resolve 'pkc-921jm.us-east-2.aws.confluent.cloud:9092': Temporary failure in name resolution (after 4ms in state CONNECT, 21 identical error(s) suppressed)\n%3|1745956935.557|FAIL|rdkafka#producer-1| [thrd:sasl_ssl://pkc-921jm.us-east-2.aws.confluent.cloud:9092/bootstr]: sasl_ssl://pkc-921jm.us-east-2.aws.confluent.cloud:9092/bootstrap: Failed to resolve 'pkc-921jm.us-east-2.aws.confluent.cloud:9092': Temporary failure in name resolution (after 1ms in state CONNECT, 20 identical error(s) suppressed)\n%3|1745956966.579|FAIL|rdkafka#producer-1| [thrd:sasl_ssl://pkc-921jm.us-east-2.aws.confluent.cloud:9092/bootstr]: sasl_ssl://pkc-921jm.us-east-2.aws.confluent.cloud:9092/bootstrap: Failed to resolve 'pkc-921jm.us-east-2.aws.confluent.cloud:9092': Temporary failure in name resolution (after 1ms in state CONNECT, 21 identical error(s) suppressed)\n"
     ]
    },
    {
     "output_type": "stream",
     "name": "stdout",
     "output_type": "stream",
     "text": [
      "message is not delivered: KafkaError{code=_MSG_TIMED_OUT,val=-192,str=\"Local: Message timed out\"}\n"
     ]
    },
    {
     "output_type": "stream",
     "name": "stderr",
     "output_type": "stream",
     "text": [
      "%3|1745956997.589|FAIL|rdkafka#producer-1| [thrd:sasl_ssl://pkc-921jm.us-east-2.aws.confluent.cloud:9092/bootstr]: sasl_ssl://pkc-921jm.us-east-2.aws.confluent.cloud:9092/bootstrap: Failed to resolve 'pkc-921jm.us-east-2.aws.confluent.cloud:9092': Temporary failure in name resolution (after 1ms in state CONNECT, 21 identical error(s) suppressed)\n%3|1745957027.679|FAIL|rdkafka#producer-1| [thrd:sasl_ssl://pkc-921jm.us-east-2.aws.confluent.cloud:9092/bootstr]: sasl_ssl://pkc-921jm.us-east-2.aws.confluent.cloud:9092/bootstrap: Failed to resolve 'pkc-921jm.us-east-2.aws.confluent.cloud:9092': Temporary failure in name resolution (after 7ms in state CONNECT, 21 identical error(s) suppressed)\n%3|1745957057.679|FAIL|rdkafka#producer-1| [thrd:sasl_ssl://pkc-921jm.us-east-2.aws.confluent.cloud:9092/bootstr]: sasl_ssl://pkc-921jm.us-east-2.aws.confluent.cloud:9092/bootstrap: Failed to resolve 'pkc-921jm.us-east-2.aws.confluent.cloud:9092': Temporary failure in name resolution (after 1ms in state CONNECT, 20 identical error(s) suppressed)\n%3|1745957088.688|FAIL|rdkafka#producer-1| [thrd:sasl_ssl://pkc-921jm.us-east-2.aws.confluent.cloud:9092/bootstr]: sasl_ssl://pkc-921jm.us-east-2.aws.confluent.cloud:9092/bootstrap: Failed to resolve 'pkc-921jm.us-east-2.aws.confluent.cloud:9092': Temporary failure in name resolution (after 2ms in state CONNECT, 21 identical error(s) suppressed)\n%3|1745957119.656|FAIL|rdkafka#producer-1| [thrd:sasl_ssl://pkc-921jm.us-east-2.aws.confluent.cloud:9092/bootstr]: sasl_ssl://pkc-921jm.us-east-2.aws.confluent.cloud:9092/bootstrap: Failed to resolve 'pkc-921jm.us-east-2.aws.confluent.cloud:9092': Temporary failure in name resolution (after 1ms in state CONNECT, 21 identical error(s) suppressed)\n%3|1745957150.669|FAIL|rdkafka#producer-1| [thrd:sasl_ssl://pkc-921jm.us-east-2.aws.confluent.cloud:9092/bootstr]: sasl_ssl://pkc-921jm.us-east-2.aws.confluent.cloud:9092/bootstrap: Failed to resolve 'pkc-921jm.us-east-2.aws.confluent.cloud:9092': Temporary failure in name resolution (after 2ms in state CONNECT, 21 identical error(s) suppressed)\n%3|1745957180.735|FAIL|rdkafka#producer-1| [thrd:sasl_ssl://pkc-921jm.us-east-2.aws.confluent.cloud:9092/bootstr]: sasl_ssl://pkc-921jm.us-east-2.aws.confluent.cloud:9092/bootstrap: Failed to resolve 'pkc-921jm.us-east-2.aws.confluent.cloud:9092': Temporary failure in name resolution (after 1ms in state CONNECT, 21 identical error(s) suppressed)\n%3|1745957210.743|FAIL|rdkafka#producer-1| [thrd:sasl_ssl://pkc-921jm.us-east-2.aws.confluent.cloud:9092/bootstr]: sasl_ssl://pkc-921jm.us-east-2.aws.confluent.cloud:9092/bootstrap: Failed to resolve 'pkc-921jm.us-east-2.aws.confluent.cloud:9092': Temporary failure in name resolution (after 2ms in state CONNECT, 20 identical error(s) suppressed)\n%3|1745957241.768|FAIL|rdkafka#producer-1| [thrd:sasl_ssl://pkc-921jm.us-east-2.aws.confluent.cloud:9092/bootstr]: sasl_ssl://pkc-921jm.us-east-2.aws.confluent.cloud:9092/bootstrap: Failed to resolve 'pkc-921jm.us-east-2.aws.confluent.cloud:9092': Temporary failure in name resolution (after 2ms in state CONNECT, 21 identical error(s) suppressed)\n%3|1745957271.776|FAIL|rdkafka#producer-1| [thrd:sasl_ssl://pkc-921jm.us-east-2.aws.confluent.cloud:9092/bootstr]: sasl_ssl://pkc-921jm.us-east-2.aws.confluent.cloud:9092/bootstrap: Failed to resolve 'pkc-921jm.us-east-2.aws.confluent.cloud:9092': Temporary failure in name resolution (after 2ms in state CONNECT, 20 identical error(s) suppressed)\n"
     ]
    },
    {
     "output_type": "stream",
     "name": "stdout",
     "output_type": "stream",
     "text": [
      "message is not delivered: KafkaError{code=_MSG_TIMED_OUT,val=-192,str=\"Local: Message timed out\"}\n"
     ]
    },
    {
     "output_type": "stream",
     "name": "stderr",
     "output_type": "stream",
     "text": [
      "%3|1745957302.784|FAIL|rdkafka#producer-1| [thrd:sasl_ssl://pkc-921jm.us-east-2.aws.confluent.cloud:9092/bootstr]: sasl_ssl://pkc-921jm.us-east-2.aws.confluent.cloud:9092/bootstrap: Failed to resolve 'pkc-921jm.us-east-2.aws.confluent.cloud:9092': Temporary failure in name resolution (after 1ms in state CONNECT, 21 identical error(s) suppressed)\n%3|1745957332.790|FAIL|rdkafka#producer-1| [thrd:sasl_ssl://pkc-921jm.us-east-2.aws.confluent.cloud:9092/bootstr]: sasl_ssl://pkc-921jm.us-east-2.aws.confluent.cloud:9092/bootstrap: Failed to resolve 'pkc-921jm.us-east-2.aws.confluent.cloud:9092': Temporary failure in name resolution (after 2ms in state CONNECT, 20 identical error(s) suppressed)\n%3|1745957362.801|FAIL|rdkafka#producer-1| [thrd:sasl_ssl://pkc-921jm.us-east-2.aws.confluent.cloud:9092/bootstr]: sasl_ssl://pkc-921jm.us-east-2.aws.confluent.cloud:9092/bootstrap: Failed to resolve 'pkc-921jm.us-east-2.aws.confluent.cloud:9092': Temporary failure in name resolution (after 2ms in state CONNECT, 20 identical error(s) suppressed)\n%3|1745957392.810|FAIL|rdkafka#producer-1| [thrd:sasl_ssl://pkc-921jm.us-east-2.aws.confluent.cloud:9092/bootstr]: sasl_ssl://pkc-921jm.us-east-2.aws.confluent.cloud:9092/bootstrap: Failed to resolve 'pkc-921jm.us-east-2.aws.confluent.cloud:9092': Temporary failure in name resolution (after 1ms in state CONNECT, 20 identical error(s) suppressed)\n%3|1745957422.813|FAIL|rdkafka#producer-1| [thrd:sasl_ssl://pkc-921jm.us-east-2.aws.confluent.cloud:9092/bootstr]: sasl_ssl://pkc-921jm.us-east-2.aws.confluent.cloud:9092/bootstrap: Failed to resolve 'pkc-921jm.us-east-2.aws.confluent.cloud:9092': Temporary failure in name resolution (after 1ms in state CONNECT, 20 identical error(s) suppressed)\n%3|1745957452.818|FAIL|rdkafka#producer-1| [thrd:sasl_ssl://pkc-921jm.us-east-2.aws.confluent.cloud:9092/bootstr]: sasl_ssl://pkc-921jm.us-east-2.aws.confluent.cloud:9092/bootstrap: Failed to resolve 'pkc-921jm.us-east-2.aws.confluent.cloud:9092': Temporary failure in name resolution (after 1ms in state CONNECT, 20 identical error(s) suppressed)\n%3|1745957482.823|FAIL|rdkafka#producer-1| [thrd:sasl_ssl://pkc-921jm.us-east-2.aws.confluent.cloud:9092/bootstr]: sasl_ssl://pkc-921jm.us-east-2.aws.confluent.cloud:9092/bootstrap: Failed to resolve 'pkc-921jm.us-east-2.aws.confluent.cloud:9092': Temporary failure in name resolution (after 1ms in state CONNECT, 20 identical error(s) suppressed)\n%3|1745957512.828|FAIL|rdkafka#producer-1| [thrd:sasl_ssl://pkc-921jm.us-east-2.aws.confluent.cloud:9092/bootstr]: sasl_ssl://pkc-921jm.us-east-2.aws.confluent.cloud:9092/bootstrap: Failed to resolve 'pkc-921jm.us-east-2.aws.confluent.cloud:9092': Temporary failure in name resolution (after 1ms in state CONNECT, 20 identical error(s) suppressed)\n%3|1745957542.833|FAIL|rdkafka#producer-1| [thrd:sasl_ssl://pkc-921jm.us-east-2.aws.confluent.cloud:9092/bootstr]: sasl_ssl://pkc-921jm.us-east-2.aws.confluent.cloud:9092/bootstrap: Failed to resolve 'pkc-921jm.us-east-2.aws.confluent.cloud:9092': Temporary failure in name resolution (after 1ms in state CONNECT, 20 identical error(s) suppressed)\n%3|1745957572.838|FAIL|rdkafka#producer-1| [thrd:sasl_ssl://pkc-921jm.us-east-2.aws.confluent.cloud:9092/bootstr]: sasl_ssl://pkc-921jm.us-east-2.aws.confluent.cloud:9092/bootstrap: Failed to resolve 'pkc-921jm.us-east-2.aws.confluent.cloud:9092': Temporary failure in name resolution (after 1ms in state CONNECT, 20 identical error(s) suppressed)\n"
     ]
    },
    {
     "output_type": "stream",
     "name": "stdout",
     "output_type": "stream",
     "text": [
      "message is not delivered: KafkaError{code=_MSG_TIMED_OUT,val=-192,str=\"Local: Message timed out\"}\n"
     ]
    },
    {
     "output_type": "stream",
     "name": "stderr",
     "output_type": "stream",
     "text": [
      "%3|1745957603.844|FAIL|rdkafka#producer-1| [thrd:sasl_ssl://pkc-921jm.us-east-2.aws.confluent.cloud:9092/bootstr]: sasl_ssl://pkc-921jm.us-east-2.aws.confluent.cloud:9092/bootstrap: Failed to resolve 'pkc-921jm.us-east-2.aws.confluent.cloud:9092': Temporary failure in name resolution (after 1ms in state CONNECT, 21 identical error(s) suppressed)\n%3|1745957633.848|FAIL|rdkafka#producer-1| [thrd:sasl_ssl://pkc-921jm.us-east-2.aws.confluent.cloud:9092/bootstr]: sasl_ssl://pkc-921jm.us-east-2.aws.confluent.cloud:9092/bootstrap: Failed to resolve 'pkc-921jm.us-east-2.aws.confluent.cloud:9092': Temporary failure in name resolution (after 1ms in state CONNECT, 20 identical error(s) suppressed)\n%3|1745957663.853|FAIL|rdkafka#producer-1| [thrd:sasl_ssl://pkc-921jm.us-east-2.aws.confluent.cloud:9092/bootstr]: sasl_ssl://pkc-921jm.us-east-2.aws.confluent.cloud:9092/bootstrap: Failed to resolve 'pkc-921jm.us-east-2.aws.confluent.cloud:9092': Temporary failure in name resolution (after 2ms in state CONNECT, 20 identical error(s) suppressed)\n%3|1745957693.859|FAIL|rdkafka#producer-1| [thrd:sasl_ssl://pkc-921jm.us-east-2.aws.confluent.cloud:9092/bootstr]: sasl_ssl://pkc-921jm.us-east-2.aws.confluent.cloud:9092/bootstrap: Failed to resolve 'pkc-921jm.us-east-2.aws.confluent.cloud:9092': Temporary failure in name resolution (after 1ms in state CONNECT, 20 identical error(s) suppressed)\n%3|1745957724.868|FAIL|rdkafka#producer-1| [thrd:sasl_ssl://pkc-921jm.us-east-2.aws.confluent.cloud:9092/bootstr]: sasl_ssl://pkc-921jm.us-east-2.aws.confluent.cloud:9092/bootstrap: Failed to resolve 'pkc-921jm.us-east-2.aws.confluent.cloud:9092': Temporary failure in name resolution (after 1ms in state CONNECT, 21 identical error(s) suppressed)\n%3|1745957754.881|FAIL|rdkafka#producer-1| [thrd:sasl_ssl://pkc-921jm.us-east-2.aws.confluent.cloud:9092/bootstr]: sasl_ssl://pkc-921jm.us-east-2.aws.confluent.cloud:9092/bootstrap: Failed to resolve 'pkc-921jm.us-east-2.aws.confluent.cloud:9092': Temporary failure in name resolution (after 1ms in state CONNECT, 20 identical error(s) suppressed)\n%3|1745957784.886|FAIL|rdkafka#producer-1| [thrd:sasl_ssl://pkc-921jm.us-east-2.aws.confluent.cloud:9092/bootstr]: sasl_ssl://pkc-921jm.us-east-2.aws.confluent.cloud:9092/bootstrap: Failed to resolve 'pkc-921jm.us-east-2.aws.confluent.cloud:9092': Temporary failure in name resolution (after 1ms in state CONNECT, 20 identical error(s) suppressed)\n%3|1745957814.892|FAIL|rdkafka#producer-1| [thrd:sasl_ssl://pkc-921jm.us-east-2.aws.confluent.cloud:9092/bootstr]: sasl_ssl://pkc-921jm.us-east-2.aws.confluent.cloud:9092/bootstrap: Failed to resolve 'pkc-921jm.us-east-2.aws.confluent.cloud:9092': Temporary failure in name resolution (after 1ms in state CONNECT, 20 identical error(s) suppressed)\n%3|1745957844.898|FAIL|rdkafka#producer-1| [thrd:sasl_ssl://pkc-921jm.us-east-2.aws.confluent.cloud:9092/bootstr]: sasl_ssl://pkc-921jm.us-east-2.aws.confluent.cloud:9092/bootstrap: Failed to resolve 'pkc-921jm.us-east-2.aws.confluent.cloud:9092': Temporary failure in name resolution (after 1ms in state CONNECT, 20 identical error(s) suppressed)\n%3|1745957874.908|FAIL|rdkafka#producer-1| [thrd:sasl_ssl://pkc-921jm.us-east-2.aws.confluent.cloud:9092/bootstr]: sasl_ssl://pkc-921jm.us-east-2.aws.confluent.cloud:9092/bootstrap: Failed to resolve 'pkc-921jm.us-east-2.aws.confluent.cloud:9092': Temporary failure in name resolution (after 4ms in state CONNECT, 20 identical error(s) suppressed)\n"
     ]
    },
    {
     "output_type": "stream",
     "name": "stdout",
     "output_type": "stream",
     "text": [
      "message is not delivered: KafkaError{code=_MSG_TIMED_OUT,val=-192,str=\"Local: Message timed out\"}\n"
     ]
    },
    {
     "output_type": "stream",
     "name": "stderr",
     "output_type": "stream",
     "text": [
      "%3|1745957904.910|FAIL|rdkafka#producer-1| [thrd:sasl_ssl://pkc-921jm.us-east-2.aws.confluent.cloud:9092/bootstr]: sasl_ssl://pkc-921jm.us-east-2.aws.confluent.cloud:9092/bootstrap: Failed to resolve 'pkc-921jm.us-east-2.aws.confluent.cloud:9092': Temporary failure in name resolution (after 1ms in state CONNECT, 20 identical error(s) suppressed)\n%3|1745957934.915|FAIL|rdkafka#producer-1| [thrd:sasl_ssl://pkc-921jm.us-east-2.aws.confluent.cloud:9092/bootstr]: sasl_ssl://pkc-921jm.us-east-2.aws.confluent.cloud:9092/bootstrap: Failed to resolve 'pkc-921jm.us-east-2.aws.confluent.cloud:9092': Temporary failure in name resolution (after 1ms in state CONNECT, 20 identical error(s) suppressed)\n%3|1745957964.919|FAIL|rdkafka#producer-1| [thrd:sasl_ssl://pkc-921jm.us-east-2.aws.confluent.cloud:9092/bootstr]: sasl_ssl://pkc-921jm.us-east-2.aws.confluent.cloud:9092/bootstrap: Failed to resolve 'pkc-921jm.us-east-2.aws.confluent.cloud:9092': Temporary failure in name resolution (after 1ms in state CONNECT, 20 identical error(s) suppressed)\n%3|1745957994.924|FAIL|rdkafka#producer-1| [thrd:sasl_ssl://pkc-921jm.us-east-2.aws.confluent.cloud:9092/bootstr]: sasl_ssl://pkc-921jm.us-east-2.aws.confluent.cloud:9092/bootstrap: Failed to resolve 'pkc-921jm.us-east-2.aws.confluent.cloud:9092': Temporary failure in name resolution (after 1ms in state CONNECT, 20 identical error(s) suppressed)\n%3|1745958024.930|FAIL|rdkafka#producer-1| [thrd:sasl_ssl://pkc-921jm.us-east-2.aws.confluent.cloud:9092/bootstr]: sasl_ssl://pkc-921jm.us-east-2.aws.confluent.cloud:9092/bootstrap: Failed to resolve 'pkc-921jm.us-east-2.aws.confluent.cloud:9092': Temporary failure in name resolution (after 1ms in state CONNECT, 20 identical error(s) suppressed)\n%3|1745958054.934|FAIL|rdkafka#producer-1| [thrd:sasl_ssl://pkc-921jm.us-east-2.aws.confluent.cloud:9092/bootstr]: sasl_ssl://pkc-921jm.us-east-2.aws.confluent.cloud:9092/bootstrap: Failed to resolve 'pkc-921jm.us-east-2.aws.confluent.cloud:9092': Temporary failure in name resolution (after 1ms in state CONNECT, 20 identical error(s) suppressed)\n%3|1745958084.951|FAIL|rdkafka#producer-1| [thrd:sasl_ssl://pkc-921jm.us-east-2.aws.confluent.cloud:9092/bootstr]: sasl_ssl://pkc-921jm.us-east-2.aws.confluent.cloud:9092/bootstrap: Failed to resolve 'pkc-921jm.us-east-2.aws.confluent.cloud:9092': Temporary failure in name resolution (after 1ms in state CONNECT, 20 identical error(s) suppressed)\n%3|1745958114.955|FAIL|rdkafka#producer-1| [thrd:sasl_ssl://pkc-921jm.us-east-2.aws.confluent.cloud:9092/bootstr]: sasl_ssl://pkc-921jm.us-east-2.aws.confluent.cloud:9092/bootstrap: Failed to resolve 'pkc-921jm.us-east-2.aws.confluent.cloud:9092': Temporary failure in name resolution (after 1ms in state CONNECT, 20 identical error(s) suppressed)\n%3|1745958144.961|FAIL|rdkafka#producer-1| [thrd:sasl_ssl://pkc-921jm.us-east-2.aws.confluent.cloud:9092/bootstr]: sasl_ssl://pkc-921jm.us-east-2.aws.confluent.cloud:9092/bootstrap: Failed to resolve 'pkc-921jm.us-east-2.aws.confluent.cloud:9092': Temporary failure in name resolution (after 1ms in state CONNECT, 20 identical error(s) suppressed)\n%3|1745958174.965|FAIL|rdkafka#producer-1| [thrd:sasl_ssl://pkc-921jm.us-east-2.aws.confluent.cloud:9092/bootstr]: sasl_ssl://pkc-921jm.us-east-2.aws.confluent.cloud:9092/bootstrap: Failed to resolve 'pkc-921jm.us-east-2.aws.confluent.cloud:9092': Temporary failure in name resolution (after 1ms in state CONNECT, 20 identical error(s) suppressed)\n"
     ]
    },
    {
     "output_type": "stream",
     "name": "stdout",
     "output_type": "stream",
     "text": [
      "message is not delivered: KafkaError{code=_MSG_TIMED_OUT,val=-192,str=\"Local: Message timed out\"}\n"
     ]
    },
    {
     "output_type": "stream",
     "name": "stderr",
     "output_type": "stream",
     "text": [
      "%3|1745958204.975|FAIL|rdkafka#producer-1| [thrd:sasl_ssl://pkc-921jm.us-east-2.aws.confluent.cloud:9092/bootstr]: sasl_ssl://pkc-921jm.us-east-2.aws.confluent.cloud:9092/bootstrap: Failed to resolve 'pkc-921jm.us-east-2.aws.confluent.cloud:9092': Temporary failure in name resolution (after 3ms in state CONNECT, 20 identical error(s) suppressed)\n%3|1745958234.984|FAIL|rdkafka#producer-1| [thrd:sasl_ssl://pkc-921jm.us-east-2.aws.confluent.cloud:9092/bootstr]: sasl_ssl://pkc-921jm.us-east-2.aws.confluent.cloud:9092/bootstrap: Failed to resolve 'pkc-921jm.us-east-2.aws.confluent.cloud:9092': Temporary failure in name resolution (after 3ms in state CONNECT, 20 identical error(s) suppressed)\n%3|1745958264.987|FAIL|rdkafka#producer-1| [thrd:sasl_ssl://pkc-921jm.us-east-2.aws.confluent.cloud:9092/bootstr]: sasl_ssl://pkc-921jm.us-east-2.aws.confluent.cloud:9092/bootstrap: Failed to resolve 'pkc-921jm.us-east-2.aws.confluent.cloud:9092': Temporary failure in name resolution (after 1ms in state CONNECT, 20 identical error(s) suppressed)\n%3|1745958294.993|FAIL|rdkafka#producer-1| [thrd:sasl_ssl://pkc-921jm.us-east-2.aws.confluent.cloud:9092/bootstr]: sasl_ssl://pkc-921jm.us-east-2.aws.confluent.cloud:9092/bootstrap: Failed to resolve 'pkc-921jm.us-east-2.aws.confluent.cloud:9092': Temporary failure in name resolution (after 1ms in state CONNECT, 20 identical error(s) suppressed)\n%3|1745958324.997|FAIL|rdkafka#producer-1| [thrd:sasl_ssl://pkc-921jm.us-east-2.aws.confluent.cloud:9092/bootstr]: sasl_ssl://pkc-921jm.us-east-2.aws.confluent.cloud:9092/bootstrap: Failed to resolve 'pkc-921jm.us-east-2.aws.confluent.cloud:9092': Temporary failure in name resolution (after 1ms in state CONNECT, 20 identical error(s) suppressed)\n%3|1745958355.014|FAIL|rdkafka#producer-1| [thrd:sasl_ssl://pkc-921jm.us-east-2.aws.confluent.cloud:9092/bootstr]: sasl_ssl://pkc-921jm.us-east-2.aws.confluent.cloud:9092/bootstrap: Failed to resolve 'pkc-921jm.us-east-2.aws.confluent.cloud:9092': Temporary failure in name resolution (after 1ms in state CONNECT, 20 identical error(s) suppressed)\n%3|1745958385.702|FAIL|rdkafka#producer-1| [thrd:sasl_ssl://pkc-921jm.us-east-2.aws.confluent.cloud:9092/bootstr]: sasl_ssl://pkc-921jm.us-east-2.aws.confluent.cloud:9092/bootstrap: Failed to resolve 'pkc-921jm.us-east-2.aws.confluent.cloud:9092': Temporary failure in name resolution (after 5ms in state CONNECT, 19 identical error(s) suppressed)\n%3|1745958416.152|FAIL|rdkafka#producer-1| [thrd:sasl_ssl://pkc-921jm.us-east-2.aws.confluent.cloud:9092/bootstr]: sasl_ssl://pkc-921jm.us-east-2.aws.confluent.cloud:9092/bootstrap: Failed to resolve 'pkc-921jm.us-east-2.aws.confluent.cloud:9092': Temporary failure in name resolution (after 1ms in state CONNECT, 21 identical error(s) suppressed)\n%3|1745958447.167|FAIL|rdkafka#producer-1| [thrd:sasl_ssl://pkc-921jm.us-east-2.aws.confluent.cloud:9092/bootstr]: sasl_ssl://pkc-921jm.us-east-2.aws.confluent.cloud:9092/bootstrap: Failed to resolve 'pkc-921jm.us-east-2.aws.confluent.cloud:9092': Temporary failure in name resolution (after 1ms in state CONNECT, 21 identical error(s) suppressed)\n%3|1745958478.209|FAIL|rdkafka#producer-1| [thrd:sasl_ssl://pkc-921jm.us-east-2.aws.confluent.cloud:9092/bootstr]: sasl_ssl://pkc-921jm.us-east-2.aws.confluent.cloud:9092/bootstrap: Failed to resolve 'pkc-921jm.us-east-2.aws.confluent.cloud:9092': Temporary failure in name resolution (after 2ms in state CONNECT, 21 identical error(s) suppressed)\n"
     ]
    },
    {
     "output_type": "stream",
     "name": "stdout",
     "output_type": "stream",
     "text": [
      "message is not delivered: KafkaError{code=_MSG_TIMED_OUT,val=-192,str=\"Local: Message timed out\"}\n"
     ]
    },
    {
     "output_type": "stream",
     "name": "stderr",
     "output_type": "stream",
     "text": [
      "%3|1745958509.168|FAIL|rdkafka#producer-1| [thrd:sasl_ssl://pkc-921jm.us-east-2.aws.confluent.cloud:9092/bootstr]: sasl_ssl://pkc-921jm.us-east-2.aws.confluent.cloud:9092/bootstrap: Failed to resolve 'pkc-921jm.us-east-2.aws.confluent.cloud:9092': Temporary failure in name resolution (after 1ms in state CONNECT, 21 identical error(s) suppressed)\n%3|1745958539.175|FAIL|rdkafka#producer-1| [thrd:sasl_ssl://pkc-921jm.us-east-2.aws.confluent.cloud:9092/bootstr]: sasl_ssl://pkc-921jm.us-east-2.aws.confluent.cloud:9092/bootstrap: Failed to resolve 'pkc-921jm.us-east-2.aws.confluent.cloud:9092': Temporary failure in name resolution (after 2ms in state CONNECT, 20 identical error(s) suppressed)\n%3|1745958570.191|FAIL|rdkafka#producer-1| [thrd:sasl_ssl://pkc-921jm.us-east-2.aws.confluent.cloud:9092/bootstr]: sasl_ssl://pkc-921jm.us-east-2.aws.confluent.cloud:9092/bootstrap: Failed to resolve 'pkc-921jm.us-east-2.aws.confluent.cloud:9092': Temporary failure in name resolution (after 1ms in state CONNECT, 21 identical error(s) suppressed)\n%3|1745958601.211|FAIL|rdkafka#producer-1| [thrd:sasl_ssl://pkc-921jm.us-east-2.aws.confluent.cloud:9092/bootstr]: sasl_ssl://pkc-921jm.us-east-2.aws.confluent.cloud:9092/bootstrap: Failed to resolve 'pkc-921jm.us-east-2.aws.confluent.cloud:9092': Temporary failure in name resolution (after 6ms in state CONNECT, 21 identical error(s) suppressed)\n%3|1745958632.236|FAIL|rdkafka#producer-1| [thrd:sasl_ssl://pkc-921jm.us-east-2.aws.confluent.cloud:9092/bootstr]: sasl_ssl://pkc-921jm.us-east-2.aws.confluent.cloud:9092/bootstrap: Failed to resolve 'pkc-921jm.us-east-2.aws.confluent.cloud:9092': Temporary failure in name resolution (after 1ms in state CONNECT, 21 identical error(s) suppressed)\n%3|1745958663.252|FAIL|rdkafka#producer-1| [thrd:sasl_ssl://pkc-921jm.us-east-2.aws.confluent.cloud:9092/bootstr]: sasl_ssl://pkc-921jm.us-east-2.aws.confluent.cloud:9092/bootstrap: Failed to resolve 'pkc-921jm.us-east-2.aws.confluent.cloud:9092': Temporary failure in name resolution (after 2ms in state CONNECT, 21 identical error(s) suppressed)\n%3|1745958694.270|FAIL|rdkafka#producer-1| [thrd:sasl_ssl://pkc-921jm.us-east-2.aws.confluent.cloud:9092/bootstr]: sasl_ssl://pkc-921jm.us-east-2.aws.confluent.cloud:9092/bootstrap: Failed to resolve 'pkc-921jm.us-east-2.aws.confluent.cloud:9092': Temporary failure in name resolution (after 1ms in state CONNECT, 21 identical error(s) suppressed)\n%3|1745958725.278|FAIL|rdkafka#producer-1| [thrd:sasl_ssl://pkc-921jm.us-east-2.aws.confluent.cloud:9092/bootstr]: sasl_ssl://pkc-921jm.us-east-2.aws.confluent.cloud:9092/bootstrap: Failed to resolve 'pkc-921jm.us-east-2.aws.confluent.cloud:9092': Temporary failure in name resolution (after 1ms in state CONNECT, 21 identical error(s) suppressed)\n%3|1745958755.342|FAIL|rdkafka#producer-1| [thrd:sasl_ssl://pkc-921jm.us-east-2.aws.confluent.cloud:9092/bootstr]: sasl_ssl://pkc-921jm.us-east-2.aws.confluent.cloud:9092/bootstrap: Failed to resolve 'pkc-921jm.us-east-2.aws.confluent.cloud:9092': Temporary failure in name resolution (after 1ms in state CONNECT, 21 identical error(s) suppressed)\n%3|1745958785.353|FAIL|rdkafka#producer-1| [thrd:sasl_ssl://pkc-921jm.us-east-2.aws.confluent.cloud:9092/bootstr]: sasl_ssl://pkc-921jm.us-east-2.aws.confluent.cloud:9092/bootstrap: Failed to resolve 'pkc-921jm.us-east-2.aws.confluent.cloud:9092': Temporary failure in name resolution (after 5ms in state CONNECT, 20 identical error(s) suppressed)\n"
     ]
    },
    {
     "output_type": "stream",
     "name": "stdout",
     "output_type": "stream",
     "text": [
      "message is not delivered: KafkaError{code=_MSG_TIMED_OUT,val=-192,str=\"Local: Message timed out\"}\n"
     ]
    },
    {
     "output_type": "stream",
     "name": "stderr",
     "output_type": "stream",
     "text": [
      "%3|1745958815.358|FAIL|rdkafka#producer-1| [thrd:sasl_ssl://pkc-921jm.us-east-2.aws.confluent.cloud:9092/bootstr]: sasl_ssl://pkc-921jm.us-east-2.aws.confluent.cloud:9092/bootstrap: Failed to resolve 'pkc-921jm.us-east-2.aws.confluent.cloud:9092': Temporary failure in name resolution (after 2ms in state CONNECT, 20 identical error(s) suppressed)\n%3|1745958845.366|FAIL|rdkafka#producer-1| [thrd:sasl_ssl://pkc-921jm.us-east-2.aws.confluent.cloud:9092/bootstr]: sasl_ssl://pkc-921jm.us-east-2.aws.confluent.cloud:9092/bootstrap: Failed to resolve 'pkc-921jm.us-east-2.aws.confluent.cloud:9092': Temporary failure in name resolution (after 1ms in state CONNECT, 20 identical error(s) suppressed)\n%3|1745958876.379|FAIL|rdkafka#producer-1| [thrd:sasl_ssl://pkc-921jm.us-east-2.aws.confluent.cloud:9092/bootstr]: sasl_ssl://pkc-921jm.us-east-2.aws.confluent.cloud:9092/bootstrap: Failed to resolve 'pkc-921jm.us-east-2.aws.confluent.cloud:9092': Temporary failure in name resolution (after 1ms in state CONNECT, 21 identical error(s) suppressed)\n%3|1745958907.396|FAIL|rdkafka#producer-1| [thrd:sasl_ssl://pkc-921jm.us-east-2.aws.confluent.cloud:9092/bootstr]: sasl_ssl://pkc-921jm.us-east-2.aws.confluent.cloud:9092/bootstrap: Failed to resolve 'pkc-921jm.us-east-2.aws.confluent.cloud:9092': Temporary failure in name resolution (after 2ms in state CONNECT, 21 identical error(s) suppressed)\n%3|1745958937.405|FAIL|rdkafka#producer-1| [thrd:sasl_ssl://pkc-921jm.us-east-2.aws.confluent.cloud:9092/bootstr]: sasl_ssl://pkc-921jm.us-east-2.aws.confluent.cloud:9092/bootstrap: Failed to resolve 'pkc-921jm.us-east-2.aws.confluent.cloud:9092': Temporary failure in name resolution (after 2ms in state CONNECT, 20 identical error(s) suppressed)\n%3|1745958968.451|FAIL|rdkafka#producer-1| [thrd:sasl_ssl://pkc-921jm.us-east-2.aws.confluent.cloud:9092/bootstr]: sasl_ssl://pkc-921jm.us-east-2.aws.confluent.cloud:9092/bootstrap: Failed to resolve 'pkc-921jm.us-east-2.aws.confluent.cloud:9092': Temporary failure in name resolution (after 1ms in state CONNECT, 21 identical error(s) suppressed)\n%3|1745958998.458|FAIL|rdkafka#producer-1| [thrd:sasl_ssl://pkc-921jm.us-east-2.aws.confluent.cloud:9092/bootstr]: sasl_ssl://pkc-921jm.us-east-2.aws.confluent.cloud:9092/bootstrap: Failed to resolve 'pkc-921jm.us-east-2.aws.confluent.cloud:9092': Temporary failure in name resolution (after 1ms in state CONNECT, 20 identical error(s) suppressed)\n%3|1745959029.475|FAIL|rdkafka#producer-1| [thrd:sasl_ssl://pkc-921jm.us-east-2.aws.confluent.cloud:9092/bootstr]: sasl_ssl://pkc-921jm.us-east-2.aws.confluent.cloud:9092/bootstrap: Failed to resolve 'pkc-921jm.us-east-2.aws.confluent.cloud:9092': Temporary failure in name resolution (after 2ms in state CONNECT, 21 identical error(s) suppressed)\n%3|1745959059.486|FAIL|rdkafka#producer-1| [thrd:sasl_ssl://pkc-921jm.us-east-2.aws.confluent.cloud:9092/bootstr]: sasl_ssl://pkc-921jm.us-east-2.aws.confluent.cloud:9092/bootstrap: Failed to resolve 'pkc-921jm.us-east-2.aws.confluent.cloud:9092': Temporary failure in name resolution (after 1ms in state CONNECT, 20 identical error(s) suppressed)\n%3|1745959089.581|FAIL|rdkafka#producer-1| [thrd:sasl_ssl://pkc-921jm.us-east-2.aws.confluent.cloud:9092/bootstr]: sasl_ssl://pkc-921jm.us-east-2.aws.confluent.cloud:9092/bootstrap: Failed to resolve 'pkc-921jm.us-east-2.aws.confluent.cloud:9092': Temporary failure in name resolution (after 2ms in state CONNECT, 21 identical error(s) suppressed)\n"
     ]
    },
    {
     "output_type": "stream",
     "name": "stdout",
     "output_type": "stream",
     "text": [
      "message is not delivered: KafkaError{code=_MSG_TIMED_OUT,val=-192,str=\"Local: Message timed out\"}\n"
     ]
    },
    {
     "output_type": "stream",
     "name": "stderr",
     "output_type": "stream",
     "text": [
      "%3|1745959119.581|FAIL|rdkafka#producer-1| [thrd:sasl_ssl://pkc-921jm.us-east-2.aws.confluent.cloud:9092/bootstr]: sasl_ssl://pkc-921jm.us-east-2.aws.confluent.cloud:9092/bootstrap: Failed to resolve 'pkc-921jm.us-east-2.aws.confluent.cloud:9092': Temporary failure in name resolution (after 8ms in state CONNECT, 20 identical error(s) suppressed)\n%3|1745959150.591|FAIL|rdkafka#producer-1| [thrd:sasl_ssl://pkc-921jm.us-east-2.aws.confluent.cloud:9092/bootstr]: sasl_ssl://pkc-921jm.us-east-2.aws.confluent.cloud:9092/bootstrap: Failed to resolve 'pkc-921jm.us-east-2.aws.confluent.cloud:9092': Temporary failure in name resolution (after 2ms in state CONNECT, 21 identical error(s) suppressed)\n%3|1745959180.597|FAIL|rdkafka#producer-1| [thrd:sasl_ssl://pkc-921jm.us-east-2.aws.confluent.cloud:9092/bootstr]: sasl_ssl://pkc-921jm.us-east-2.aws.confluent.cloud:9092/bootstrap: Failed to resolve 'pkc-921jm.us-east-2.aws.confluent.cloud:9092': Temporary failure in name resolution (after 1ms in state CONNECT, 20 identical error(s) suppressed)\n%3|1745959211.612|FAIL|rdkafka#producer-1| [thrd:sasl_ssl://pkc-921jm.us-east-2.aws.confluent.cloud:9092/bootstr]: sasl_ssl://pkc-921jm.us-east-2.aws.confluent.cloud:9092/bootstrap: Failed to resolve 'pkc-921jm.us-east-2.aws.confluent.cloud:9092': Temporary failure in name resolution (after 1ms in state CONNECT, 21 identical error(s) suppressed)\n%3|1745959242.650|FAIL|rdkafka#producer-1| [thrd:sasl_ssl://pkc-921jm.us-east-2.aws.confluent.cloud:9092/bootstr]: sasl_ssl://pkc-921jm.us-east-2.aws.confluent.cloud:9092/bootstrap: Failed to resolve 'pkc-921jm.us-east-2.aws.confluent.cloud:9092': Temporary failure in name resolution (after 3ms in state CONNECT, 21 identical error(s) suppressed)\n%3|1745959273.619|FAIL|rdkafka#producer-1| [thrd:sasl_ssl://pkc-921jm.us-east-2.aws.confluent.cloud:9092/bootstr]: sasl_ssl://pkc-921jm.us-east-2.aws.confluent.cloud:9092/bootstrap: Failed to resolve 'pkc-921jm.us-east-2.aws.confluent.cloud:9092': Temporary failure in name resolution (after 1ms in state CONNECT, 21 identical error(s) suppressed)\n%3|1745959303.665|FAIL|rdkafka#producer-1| [thrd:sasl_ssl://pkc-921jm.us-east-2.aws.confluent.cloud:9092/bootstr]: sasl_ssl://pkc-921jm.us-east-2.aws.confluent.cloud:9092/bootstrap: Failed to resolve 'pkc-921jm.us-east-2.aws.confluent.cloud:9092': Temporary failure in name resolution (after 2ms in state CONNECT, 20 identical error(s) suppressed)\n%3|1745959333.671|FAIL|rdkafka#producer-1| [thrd:sasl_ssl://pkc-921jm.us-east-2.aws.confluent.cloud:9092/bootstr]: sasl_ssl://pkc-921jm.us-east-2.aws.confluent.cloud:9092/bootstrap: Failed to resolve 'pkc-921jm.us-east-2.aws.confluent.cloud:9092': Temporary failure in name resolution (after 1ms in state CONNECT, 20 identical error(s) suppressed)\n%3|1745959363.681|FAIL|rdkafka#producer-1| [thrd:sasl_ssl://pkc-921jm.us-east-2.aws.confluent.cloud:9092/bootstr]: sasl_ssl://pkc-921jm.us-east-2.aws.confluent.cloud:9092/bootstrap: Failed to resolve 'pkc-921jm.us-east-2.aws.confluent.cloud:9092': Temporary failure in name resolution (after 2ms in state CONNECT, 20 identical error(s) suppressed)\n%3|1745959393.687|FAIL|rdkafka#producer-1| [thrd:sasl_ssl://pkc-921jm.us-east-2.aws.confluent.cloud:9092/bootstr]: sasl_ssl://pkc-921jm.us-east-2.aws.confluent.cloud:9092/bootstrap: Failed to resolve 'pkc-921jm.us-east-2.aws.confluent.cloud:9092': Temporary failure in name resolution (after 1ms in state CONNECT, 20 identical error(s) suppressed)\n"
     ]
    },
    {
     "output_type": "stream",
     "name": "stdout",
     "output_type": "stream",
     "text": [
      "message is not delivered: KafkaError{code=_MSG_TIMED_OUT,val=-192,str=\"Local: Message timed out\"}\n"
     ]
    },
    {
     "output_type": "stream",
     "name": "stderr",
     "output_type": "stream",
     "text": [
      "%3|1745959423.695|FAIL|rdkafka#producer-1| [thrd:sasl_ssl://pkc-921jm.us-east-2.aws.confluent.cloud:9092/bootstr]: sasl_ssl://pkc-921jm.us-east-2.aws.confluent.cloud:9092/bootstrap: Failed to resolve 'pkc-921jm.us-east-2.aws.confluent.cloud:9092': Temporary failure in name resolution (after 1ms in state CONNECT, 20 identical error(s) suppressed)\n%3|1745959453.701|FAIL|rdkafka#producer-1| [thrd:sasl_ssl://pkc-921jm.us-east-2.aws.confluent.cloud:9092/bootstr]: sasl_ssl://pkc-921jm.us-east-2.aws.confluent.cloud:9092/bootstrap: Failed to resolve 'pkc-921jm.us-east-2.aws.confluent.cloud:9092': Temporary failure in name resolution (after 1ms in state CONNECT, 20 identical error(s) suppressed)\n%3|1745959484.710|FAIL|rdkafka#producer-1| [thrd:sasl_ssl://pkc-921jm.us-east-2.aws.confluent.cloud:9092/bootstr]: sasl_ssl://pkc-921jm.us-east-2.aws.confluent.cloud:9092/bootstrap: Failed to resolve 'pkc-921jm.us-east-2.aws.confluent.cloud:9092': Temporary failure in name resolution (after 2ms in state CONNECT, 21 identical error(s) suppressed)\n%3|1745959514.714|FAIL|rdkafka#producer-1| [thrd:sasl_ssl://pkc-921jm.us-east-2.aws.confluent.cloud:9092/bootstr]: sasl_ssl://pkc-921jm.us-east-2.aws.confluent.cloud:9092/bootstrap: Failed to resolve 'pkc-921jm.us-east-2.aws.confluent.cloud:9092': Temporary failure in name resolution (after 1ms in state CONNECT, 20 identical error(s) suppressed)\n%3|1745959544.722|FAIL|rdkafka#producer-1| [thrd:sasl_ssl://pkc-921jm.us-east-2.aws.confluent.cloud:9092/bootstr]: sasl_ssl://pkc-921jm.us-east-2.aws.confluent.cloud:9092/bootstrap: Failed to resolve 'pkc-921jm.us-east-2.aws.confluent.cloud:9092': Temporary failure in name resolution (after 1ms in state CONNECT, 20 identical error(s) suppressed)\n%3|1745959574.734|FAIL|rdkafka#producer-1| [thrd:sasl_ssl://pkc-921jm.us-east-2.aws.confluent.cloud:9092/bootstr]: sasl_ssl://pkc-921jm.us-east-2.aws.confluent.cloud:9092/bootstrap: Failed to resolve 'pkc-921jm.us-east-2.aws.confluent.cloud:9092': Temporary failure in name resolution (after 1ms in state CONNECT, 20 identical error(s) suppressed)\n%3|1745959604.743|FAIL|rdkafka#producer-1| [thrd:sasl_ssl://pkc-921jm.us-east-2.aws.confluent.cloud:9092/bootstr]: sasl_ssl://pkc-921jm.us-east-2.aws.confluent.cloud:9092/bootstrap: Failed to resolve 'pkc-921jm.us-east-2.aws.confluent.cloud:9092': Temporary failure in name resolution (after 2ms in state CONNECT, 20 identical error(s) suppressed)\n%3|1745959634.752|FAIL|rdkafka#producer-1| [thrd:sasl_ssl://pkc-921jm.us-east-2.aws.confluent.cloud:9092/bootstr]: sasl_ssl://pkc-921jm.us-east-2.aws.confluent.cloud:9092/bootstrap: Failed to resolve 'pkc-921jm.us-east-2.aws.confluent.cloud:9092': Temporary failure in name resolution (after 1ms in state CONNECT, 20 identical error(s) suppressed)\n%3|1745959664.761|FAIL|rdkafka#producer-1| [thrd:sasl_ssl://pkc-921jm.us-east-2.aws.confluent.cloud:9092/bootstr]: sasl_ssl://pkc-921jm.us-east-2.aws.confluent.cloud:9092/bootstrap: Failed to resolve 'pkc-921jm.us-east-2.aws.confluent.cloud:9092': Temporary failure in name resolution (after 1ms in state CONNECT, 20 identical error(s) suppressed)\n%3|1745959694.765|FAIL|rdkafka#producer-1| [thrd:sasl_ssl://pkc-921jm.us-east-2.aws.confluent.cloud:9092/bootstr]: sasl_ssl://pkc-921jm.us-east-2.aws.confluent.cloud:9092/bootstrap: Failed to resolve 'pkc-921jm.us-east-2.aws.confluent.cloud:9092': Temporary failure in name resolution (after 1ms in state CONNECT, 20 identical error(s) suppressed)\n"
     ]
    },
    {
     "output_type": "stream",
     "name": "stdout",
     "output_type": "stream",
     "text": [
      "message is not delivered: KafkaError{code=_MSG_TIMED_OUT,val=-192,str=\"Local: Message timed out\"}\n"
     ]
    },
    {
     "output_type": "stream",
     "name": "stderr",
     "output_type": "stream",
     "text": [
      "%3|1745959724.776|FAIL|rdkafka#producer-1| [thrd:sasl_ssl://pkc-921jm.us-east-2.aws.confluent.cloud:9092/bootstr]: sasl_ssl://pkc-921jm.us-east-2.aws.confluent.cloud:9092/bootstrap: Failed to resolve 'pkc-921jm.us-east-2.aws.confluent.cloud:9092': Temporary failure in name resolution (after 1ms in state CONNECT, 20 identical error(s) suppressed)\n%3|1745959754.784|FAIL|rdkafka#producer-1| [thrd:sasl_ssl://pkc-921jm.us-east-2.aws.confluent.cloud:9092/bootstr]: sasl_ssl://pkc-921jm.us-east-2.aws.confluent.cloud:9092/bootstrap: Failed to resolve 'pkc-921jm.us-east-2.aws.confluent.cloud:9092': Temporary failure in name resolution (after 1ms in state CONNECT, 20 identical error(s) suppressed)\n%3|1745959785.789|FAIL|rdkafka#producer-1| [thrd:sasl_ssl://pkc-921jm.us-east-2.aws.confluent.cloud:9092/bootstr]: sasl_ssl://pkc-921jm.us-east-2.aws.confluent.cloud:9092/bootstrap: Failed to resolve 'pkc-921jm.us-east-2.aws.confluent.cloud:9092': Temporary failure in name resolution (after 2ms in state CONNECT, 21 identical error(s) suppressed)\n%3|1745959815.794|FAIL|rdkafka#producer-1| [thrd:sasl_ssl://pkc-921jm.us-east-2.aws.confluent.cloud:9092/bootstr]: sasl_ssl://pkc-921jm.us-east-2.aws.confluent.cloud:9092/bootstrap: Failed to resolve 'pkc-921jm.us-east-2.aws.confluent.cloud:9092': Temporary failure in name resolution (after 2ms in state CONNECT, 20 identical error(s) suppressed)\n%3|1745959846.803|FAIL|rdkafka#producer-1| [thrd:sasl_ssl://pkc-921jm.us-east-2.aws.confluent.cloud:9092/bootstr]: sasl_ssl://pkc-921jm.us-east-2.aws.confluent.cloud:9092/bootstrap: Failed to resolve 'pkc-921jm.us-east-2.aws.confluent.cloud:9092': Temporary failure in name resolution (after 1ms in state CONNECT, 21 identical error(s) suppressed)\n%3|1745959876.809|FAIL|rdkafka#producer-1| [thrd:sasl_ssl://pkc-921jm.us-east-2.aws.confluent.cloud:9092/bootstr]: sasl_ssl://pkc-921jm.us-east-2.aws.confluent.cloud:9092/bootstrap: Failed to resolve 'pkc-921jm.us-east-2.aws.confluent.cloud:9092': Temporary failure in name resolution (after 1ms in state CONNECT, 20 identical error(s) suppressed)\n%3|1745959906.817|FAIL|rdkafka#producer-1| [thrd:sasl_ssl://pkc-921jm.us-east-2.aws.confluent.cloud:9092/bootstr]: sasl_ssl://pkc-921jm.us-east-2.aws.confluent.cloud:9092/bootstrap: Failed to resolve 'pkc-921jm.us-east-2.aws.confluent.cloud:9092': Temporary failure in name resolution (after 2ms in state CONNECT, 20 identical error(s) suppressed)\n%3|1745959936.821|FAIL|rdkafka#producer-1| [thrd:sasl_ssl://pkc-921jm.us-east-2.aws.confluent.cloud:9092/bootstr]: sasl_ssl://pkc-921jm.us-east-2.aws.confluent.cloud:9092/bootstrap: Failed to resolve 'pkc-921jm.us-east-2.aws.confluent.cloud:9092': Temporary failure in name resolution (after 1ms in state CONNECT, 20 identical error(s) suppressed)\n%3|1745959966.827|FAIL|rdkafka#producer-1| [thrd:sasl_ssl://pkc-921jm.us-east-2.aws.confluent.cloud:9092/bootstr]: sasl_ssl://pkc-921jm.us-east-2.aws.confluent.cloud:9092/bootstrap: Failed to resolve 'pkc-921jm.us-east-2.aws.confluent.cloud:9092': Temporary failure in name resolution (after 1ms in state CONNECT, 20 identical error(s) suppressed)\n%3|1745959996.833|FAIL|rdkafka#producer-1| [thrd:sasl_ssl://pkc-921jm.us-east-2.aws.confluent.cloud:9092/bootstr]: sasl_ssl://pkc-921jm.us-east-2.aws.confluent.cloud:9092/bootstrap: Failed to resolve 'pkc-921jm.us-east-2.aws.confluent.cloud:9092': Temporary failure in name resolution (after 1ms in state CONNECT, 20 identical error(s) suppressed)\n"
     ]
    },
    {
     "output_type": "stream",
     "name": "stdout",
     "output_type": "stream",
     "text": [
      "message is not delivered: KafkaError{code=_MSG_TIMED_OUT,val=-192,str=\"Local: Message timed out\"}\n"
     ]
    },
    {
     "output_type": "stream",
     "name": "stderr",
     "output_type": "stream",
     "text": [
      "%3|1745960026.842|FAIL|rdkafka#producer-1| [thrd:sasl_ssl://pkc-921jm.us-east-2.aws.confluent.cloud:9092/bootstr]: sasl_ssl://pkc-921jm.us-east-2.aws.confluent.cloud:9092/bootstrap: Failed to resolve 'pkc-921jm.us-east-2.aws.confluent.cloud:9092': Temporary failure in name resolution (after 4ms in state CONNECT, 20 identical error(s) suppressed)\n%3|1745960056.844|FAIL|rdkafka#producer-1| [thrd:sasl_ssl://pkc-921jm.us-east-2.aws.confluent.cloud:9092/bootstr]: sasl_ssl://pkc-921jm.us-east-2.aws.confluent.cloud:9092/bootstrap: Failed to resolve 'pkc-921jm.us-east-2.aws.confluent.cloud:9092': Temporary failure in name resolution (after 1ms in state CONNECT, 20 identical error(s) suppressed)\n%3|1745960087.857|FAIL|rdkafka#producer-1| [thrd:sasl_ssl://pkc-921jm.us-east-2.aws.confluent.cloud:9092/bootstr]: sasl_ssl://pkc-921jm.us-east-2.aws.confluent.cloud:9092/bootstrap: Failed to resolve 'pkc-921jm.us-east-2.aws.confluent.cloud:9092': Temporary failure in name resolution (after 1ms in state CONNECT, 21 identical error(s) suppressed)\n%3|1745960118.864|FAIL|rdkafka#producer-1| [thrd:sasl_ssl://pkc-921jm.us-east-2.aws.confluent.cloud:9092/bootstr]: sasl_ssl://pkc-921jm.us-east-2.aws.confluent.cloud:9092/bootstrap: Failed to resolve 'pkc-921jm.us-east-2.aws.confluent.cloud:9092': Temporary failure in name resolution (after 1ms in state CONNECT, 21 identical error(s) suppressed)\n%3|1745960148.870|FAIL|rdkafka#producer-1| [thrd:sasl_ssl://pkc-921jm.us-east-2.aws.confluent.cloud:9092/bootstr]: sasl_ssl://pkc-921jm.us-east-2.aws.confluent.cloud:9092/bootstrap: Failed to resolve 'pkc-921jm.us-east-2.aws.confluent.cloud:9092': Temporary failure in name resolution (after 1ms in state CONNECT, 20 identical error(s) suppressed)\n%3|1745960178.874|FAIL|rdkafka#producer-1| [thrd:sasl_ssl://pkc-921jm.us-east-2.aws.confluent.cloud:9092/bootstr]: sasl_ssl://pkc-921jm.us-east-2.aws.confluent.cloud:9092/bootstrap: Failed to resolve 'pkc-921jm.us-east-2.aws.confluent.cloud:9092': Temporary failure in name resolution (after 1ms in state CONNECT, 20 identical error(s) suppressed)\n%3|1745960208.887|FAIL|rdkafka#producer-1| [thrd:sasl_ssl://pkc-921jm.us-east-2.aws.confluent.cloud:9092/bootstr]: sasl_ssl://pkc-921jm.us-east-2.aws.confluent.cloud:9092/bootstrap: Failed to resolve 'pkc-921jm.us-east-2.aws.confluent.cloud:9092': Temporary failure in name resolution (after 1ms in state CONNECT, 20 identical error(s) suppressed)\n%3|1745960238.892|FAIL|rdkafka#producer-1| [thrd:sasl_ssl://pkc-921jm.us-east-2.aws.confluent.cloud:9092/bootstr]: sasl_ssl://pkc-921jm.us-east-2.aws.confluent.cloud:9092/bootstrap: Failed to resolve 'pkc-921jm.us-east-2.aws.confluent.cloud:9092': Temporary failure in name resolution (after 1ms in state CONNECT, 20 identical error(s) suppressed)\n%3|1745960269.899|FAIL|rdkafka#producer-1| [thrd:sasl_ssl://pkc-921jm.us-east-2.aws.confluent.cloud:9092/bootstr]: sasl_ssl://pkc-921jm.us-east-2.aws.confluent.cloud:9092/bootstrap: Failed to resolve 'pkc-921jm.us-east-2.aws.confluent.cloud:9092': Temporary failure in name resolution (after 1ms in state CONNECT, 21 identical error(s) suppressed)\n%3|1745960299.904|FAIL|rdkafka#producer-1| [thrd:sasl_ssl://pkc-921jm.us-east-2.aws.confluent.cloud:9092/bootstr]: sasl_ssl://pkc-921jm.us-east-2.aws.confluent.cloud:9092/bootstrap: Failed to resolve 'pkc-921jm.us-east-2.aws.confluent.cloud:9092': Temporary failure in name resolution (after 1ms in state CONNECT, 20 identical error(s) suppressed)\n"
     ]
    },
    {
     "output_type": "stream",
     "name": "stdout",
     "output_type": "stream",
     "text": [
      "message is not delivered: KafkaError{code=_MSG_TIMED_OUT,val=-192,str=\"Local: Message timed out\"}\n"
     ]
    },
    {
     "output_type": "stream",
     "name": "stderr",
     "output_type": "stream",
     "text": [
      "%3|1745960330.924|FAIL|rdkafka#producer-1| [thrd:sasl_ssl://pkc-921jm.us-east-2.aws.confluent.cloud:9092/bootstr]: sasl_ssl://pkc-921jm.us-east-2.aws.confluent.cloud:9092/bootstrap: Failed to resolve 'pkc-921jm.us-east-2.aws.confluent.cloud:9092': Temporary failure in name resolution (after 1ms in state CONNECT, 21 identical error(s) suppressed)\n%3|1745960360.929|FAIL|rdkafka#producer-1| [thrd:sasl_ssl://pkc-921jm.us-east-2.aws.confluent.cloud:9092/bootstr]: sasl_ssl://pkc-921jm.us-east-2.aws.confluent.cloud:9092/bootstrap: Failed to resolve 'pkc-921jm.us-east-2.aws.confluent.cloud:9092': Temporary failure in name resolution (after 1ms in state CONNECT, 20 identical error(s) suppressed)\n%3|1745960390.935|FAIL|rdkafka#producer-1| [thrd:sasl_ssl://pkc-921jm.us-east-2.aws.confluent.cloud:9092/bootstr]: sasl_ssl://pkc-921jm.us-east-2.aws.confluent.cloud:9092/bootstrap: Failed to resolve 'pkc-921jm.us-east-2.aws.confluent.cloud:9092': Temporary failure in name resolution (after 2ms in state CONNECT, 20 identical error(s) suppressed)\n%3|1745960420.939|FAIL|rdkafka#producer-1| [thrd:sasl_ssl://pkc-921jm.us-east-2.aws.confluent.cloud:9092/bootstr]: sasl_ssl://pkc-921jm.us-east-2.aws.confluent.cloud:9092/bootstrap: Failed to resolve 'pkc-921jm.us-east-2.aws.confluent.cloud:9092': Temporary failure in name resolution (after 1ms in state CONNECT, 20 identical error(s) suppressed)\n%3|1745960451.949|FAIL|rdkafka#producer-1| [thrd:sasl_ssl://pkc-921jm.us-east-2.aws.confluent.cloud:9092/bootstr]: sasl_ssl://pkc-921jm.us-east-2.aws.confluent.cloud:9092/bootstrap: Failed to resolve 'pkc-921jm.us-east-2.aws.confluent.cloud:9092': Temporary failure in name resolution (after 2ms in state CONNECT, 21 identical error(s) suppressed)\n%3|1745960481.970|FAIL|rdkafka#producer-1| [thrd:sasl_ssl://pkc-921jm.us-east-2.aws.confluent.cloud:9092/bootstr]: sasl_ssl://pkc-921jm.us-east-2.aws.confluent.cloud:9092/bootstrap: Failed to resolve 'pkc-921jm.us-east-2.aws.confluent.cloud:9092': Temporary failure in name resolution (after 17ms in state CONNECT, 20 identical error(s) suppressed)\n%3|1745960513.017|FAIL|rdkafka#producer-1| [thrd:sasl_ssl://pkc-921jm.us-east-2.aws.confluent.cloud:9092/bootstr]: sasl_ssl://pkc-921jm.us-east-2.aws.confluent.cloud:9092/bootstrap: Failed to resolve 'pkc-921jm.us-east-2.aws.confluent.cloud:9092': Temporary failure in name resolution (after 2ms in state CONNECT, 21 identical error(s) suppressed)\n%3|1745960543.978|FAIL|rdkafka#producer-1| [thrd:sasl_ssl://pkc-921jm.us-east-2.aws.confluent.cloud:9092/bootstr]: sasl_ssl://pkc-921jm.us-east-2.aws.confluent.cloud:9092/bootstrap: Failed to resolve 'pkc-921jm.us-east-2.aws.confluent.cloud:9092': Temporary failure in name resolution (after 1ms in state CONNECT, 21 identical error(s) suppressed)\n%3|1745960573.983|FAIL|rdkafka#producer-1| [thrd:sasl_ssl://pkc-921jm.us-east-2.aws.confluent.cloud:9092/bootstr]: sasl_ssl://pkc-921jm.us-east-2.aws.confluent.cloud:9092/bootstrap: Failed to resolve 'pkc-921jm.us-east-2.aws.confluent.cloud:9092': Temporary failure in name resolution (after 1ms in state CONNECT, 20 identical error(s) suppressed)\n%3|1745960603.997|FAIL|rdkafka#producer-1| [thrd:sasl_ssl://pkc-921jm.us-east-2.aws.confluent.cloud:9092/bootstr]: sasl_ssl://pkc-921jm.us-east-2.aws.confluent.cloud:9092/bootstrap: Failed to resolve 'pkc-921jm.us-east-2.aws.confluent.cloud:9092': Temporary failure in name resolution (after 5ms in state CONNECT, 20 identical error(s) suppressed)\n"
     ]
    },
    {
     "output_type": "stream",
     "name": "stdout",
     "output_type": "stream",
     "text": [
      "message is not delivered: KafkaError{code=_MSG_TIMED_OUT,val=-192,str=\"Local: Message timed out\"}\n"
     ]
    },
    {
     "output_type": "stream",
     "name": "stderr",
     "output_type": "stream",
     "text": [
      "%3|1745960633.998|FAIL|rdkafka#producer-1| [thrd:sasl_ssl://pkc-921jm.us-east-2.aws.confluent.cloud:9092/bootstr]: sasl_ssl://pkc-921jm.us-east-2.aws.confluent.cloud:9092/bootstrap: Failed to resolve 'pkc-921jm.us-east-2.aws.confluent.cloud:9092': Temporary failure in name resolution (after 1ms in state CONNECT, 20 identical error(s) suppressed)\n%3|1745960664.004|FAIL|rdkafka#producer-1| [thrd:sasl_ssl://pkc-921jm.us-east-2.aws.confluent.cloud:9092/bootstr]: sasl_ssl://pkc-921jm.us-east-2.aws.confluent.cloud:9092/bootstrap: Failed to resolve 'pkc-921jm.us-east-2.aws.confluent.cloud:9092': Temporary failure in name resolution (after 1ms in state CONNECT, 20 identical error(s) suppressed)\n%3|1745960694.012|FAIL|rdkafka#producer-1| [thrd:sasl_ssl://pkc-921jm.us-east-2.aws.confluent.cloud:9092/bootstr]: sasl_ssl://pkc-921jm.us-east-2.aws.confluent.cloud:9092/bootstrap: Failed to resolve 'pkc-921jm.us-east-2.aws.confluent.cloud:9092': Temporary failure in name resolution (after 1ms in state CONNECT, 20 identical error(s) suppressed)\n%3|1745960724.017|FAIL|rdkafka#producer-1| [thrd:sasl_ssl://pkc-921jm.us-east-2.aws.confluent.cloud:9092/bootstr]: sasl_ssl://pkc-921jm.us-east-2.aws.confluent.cloud:9092/bootstrap: Failed to resolve 'pkc-921jm.us-east-2.aws.confluent.cloud:9092': Temporary failure in name resolution (after 2ms in state CONNECT, 20 identical error(s) suppressed)\n%3|1745960754.022|FAIL|rdkafka#producer-1| [thrd:sasl_ssl://pkc-921jm.us-east-2.aws.confluent.cloud:9092/bootstr]: sasl_ssl://pkc-921jm.us-east-2.aws.confluent.cloud:9092/bootstrap: Failed to resolve 'pkc-921jm.us-east-2.aws.confluent.cloud:9092': Temporary failure in name resolution (after 1ms in state CONNECT, 20 identical error(s) suppressed)\n%3|1745960785.036|FAIL|rdkafka#producer-1| [thrd:sasl_ssl://pkc-921jm.us-east-2.aws.confluent.cloud:9092/bootstr]: sasl_ssl://pkc-921jm.us-east-2.aws.confluent.cloud:9092/bootstrap: Failed to resolve 'pkc-921jm.us-east-2.aws.confluent.cloud:9092': Temporary failure in name resolution (after 1ms in state CONNECT, 21 identical error(s) suppressed)\n%3|1745960815.062|FAIL|rdkafka#producer-1| [thrd:sasl_ssl://pkc-921jm.us-east-2.aws.confluent.cloud:9092/bootstr]: sasl_ssl://pkc-921jm.us-east-2.aws.confluent.cloud:9092/bootstrap: Failed to resolve 'pkc-921jm.us-east-2.aws.confluent.cloud:9092': Temporary failure in name resolution (after 1ms in state CONNECT, 20 identical error(s) suppressed)\n%3|1745960845.068|FAIL|rdkafka#producer-1| [thrd:sasl_ssl://pkc-921jm.us-east-2.aws.confluent.cloud:9092/bootstr]: sasl_ssl://pkc-921jm.us-east-2.aws.confluent.cloud:9092/bootstrap: Failed to resolve 'pkc-921jm.us-east-2.aws.confluent.cloud:9092': Temporary failure in name resolution (after 1ms in state CONNECT, 20 identical error(s) suppressed)\n%3|1745960875.077|FAIL|rdkafka#producer-1| [thrd:sasl_ssl://pkc-921jm.us-east-2.aws.confluent.cloud:9092/bootstr]: sasl_ssl://pkc-921jm.us-east-2.aws.confluent.cloud:9092/bootstrap: Failed to resolve 'pkc-921jm.us-east-2.aws.confluent.cloud:9092': Temporary failure in name resolution (after 2ms in state CONNECT, 20 identical error(s) suppressed)\n%3|1745960905.083|FAIL|rdkafka#producer-1| [thrd:sasl_ssl://pkc-921jm.us-east-2.aws.confluent.cloud:9092/bootstr]: sasl_ssl://pkc-921jm.us-east-2.aws.confluent.cloud:9092/bootstrap: Failed to resolve 'pkc-921jm.us-east-2.aws.confluent.cloud:9092': Temporary failure in name resolution (after 2ms in state CONNECT, 20 identical error(s) suppressed)\n"
     ]
    },
    {
     "output_type": "stream",
     "name": "stdout",
     "output_type": "stream",
     "text": [
      "message is not delivered: KafkaError{code=_MSG_TIMED_OUT,val=-192,str=\"Local: Message timed out\"}\n"
     ]
    },
    {
     "output_type": "stream",
     "name": "stderr",
     "output_type": "stream",
     "text": [
      "%3|1745960936.089|FAIL|rdkafka#producer-1| [thrd:sasl_ssl://pkc-921jm.us-east-2.aws.confluent.cloud:9092/bootstr]: sasl_ssl://pkc-921jm.us-east-2.aws.confluent.cloud:9092/bootstrap: Failed to resolve 'pkc-921jm.us-east-2.aws.confluent.cloud:9092': Temporary failure in name resolution (after 1ms in state CONNECT, 21 identical error(s) suppressed)\n%3|1745960966.095|FAIL|rdkafka#producer-1| [thrd:sasl_ssl://pkc-921jm.us-east-2.aws.confluent.cloud:9092/bootstr]: sasl_ssl://pkc-921jm.us-east-2.aws.confluent.cloud:9092/bootstrap: Failed to resolve 'pkc-921jm.us-east-2.aws.confluent.cloud:9092': Temporary failure in name resolution (after 1ms in state CONNECT, 20 identical error(s) suppressed)\n%3|1745960997.116|FAIL|rdkafka#producer-1| [thrd:sasl_ssl://pkc-921jm.us-east-2.aws.confluent.cloud:9092/bootstr]: sasl_ssl://pkc-921jm.us-east-2.aws.confluent.cloud:9092/bootstrap: Failed to resolve 'pkc-921jm.us-east-2.aws.confluent.cloud:9092': Temporary failure in name resolution (after 4ms in state CONNECT, 21 identical error(s) suppressed)\n%3|1745961027.123|FAIL|rdkafka#producer-1| [thrd:sasl_ssl://pkc-921jm.us-east-2.aws.confluent.cloud:9092/bootstr]: sasl_ssl://pkc-921jm.us-east-2.aws.confluent.cloud:9092/bootstrap: Failed to resolve 'pkc-921jm.us-east-2.aws.confluent.cloud:9092': Temporary failure in name resolution (after 5ms in state CONNECT, 20 identical error(s) suppressed)\n%3|1745961057.125|FAIL|rdkafka#producer-1| [thrd:sasl_ssl://pkc-921jm.us-east-2.aws.confluent.cloud:9092/bootstr]: sasl_ssl://pkc-921jm.us-east-2.aws.confluent.cloud:9092/bootstrap: Failed to resolve 'pkc-921jm.us-east-2.aws.confluent.cloud:9092': Temporary failure in name resolution (after 1ms in state CONNECT, 20 identical error(s) suppressed)\n%3|1745961087.132|FAIL|rdkafka#producer-1| [thrd:sasl_ssl://pkc-921jm.us-east-2.aws.confluent.cloud:9092/bootstr]: sasl_ssl://pkc-921jm.us-east-2.aws.confluent.cloud:9092/bootstrap: Failed to resolve 'pkc-921jm.us-east-2.aws.confluent.cloud:9092': Temporary failure in name resolution (after 2ms in state CONNECT, 20 identical error(s) suppressed)\n%3|1745961117.136|FAIL|rdkafka#producer-1| [thrd:sasl_ssl://pkc-921jm.us-east-2.aws.confluent.cloud:9092/bootstr]: sasl_ssl://pkc-921jm.us-east-2.aws.confluent.cloud:9092/bootstrap: Failed to resolve 'pkc-921jm.us-east-2.aws.confluent.cloud:9092': Temporary failure in name resolution (after 1ms in state CONNECT, 20 identical error(s) suppressed)\n%3|1745961148.141|FAIL|rdkafka#producer-1| [thrd:sasl_ssl://pkc-921jm.us-east-2.aws.confluent.cloud:9092/bootstr]: sasl_ssl://pkc-921jm.us-east-2.aws.confluent.cloud:9092/bootstrap: Failed to resolve 'pkc-921jm.us-east-2.aws.confluent.cloud:9092': Temporary failure in name resolution (after 1ms in state CONNECT, 21 identical error(s) suppressed)\n%3|1745961178.146|FAIL|rdkafka#producer-1| [thrd:sasl_ssl://pkc-921jm.us-east-2.aws.confluent.cloud:9092/bootstr]: sasl_ssl://pkc-921jm.us-east-2.aws.confluent.cloud:9092/bootstrap: Failed to resolve 'pkc-921jm.us-east-2.aws.confluent.cloud:9092': Temporary failure in name resolution (after 1ms in state CONNECT, 20 identical error(s) suppressed)\n%3|1745961208.153|FAIL|rdkafka#producer-1| [thrd:sasl_ssl://pkc-921jm.us-east-2.aws.confluent.cloud:9092/bootstr]: sasl_ssl://pkc-921jm.us-east-2.aws.confluent.cloud:9092/bootstrap: Failed to resolve 'pkc-921jm.us-east-2.aws.confluent.cloud:9092': Temporary failure in name resolution (after 2ms in state CONNECT, 20 identical error(s) suppressed)\n"
     ]
    },
    {
     "output_type": "stream",
     "name": "stdout",
     "output_type": "stream",
     "text": [
      "message is not delivered: KafkaError{code=_MSG_TIMED_OUT,val=-192,str=\"Local: Message timed out\"}\n"
     ]
    },
    {
     "output_type": "stream",
     "name": "stderr",
     "output_type": "stream",
     "text": [
      "%3|1745961238.159|FAIL|rdkafka#producer-1| [thrd:sasl_ssl://pkc-921jm.us-east-2.aws.confluent.cloud:9092/bootstr]: sasl_ssl://pkc-921jm.us-east-2.aws.confluent.cloud:9092/bootstrap: Failed to resolve 'pkc-921jm.us-east-2.aws.confluent.cloud:9092': Temporary failure in name resolution (after 1ms in state CONNECT, 20 identical error(s) suppressed)\n%3|1745961268.165|FAIL|rdkafka#producer-1| [thrd:sasl_ssl://pkc-921jm.us-east-2.aws.confluent.cloud:9092/bootstr]: sasl_ssl://pkc-921jm.us-east-2.aws.confluent.cloud:9092/bootstrap: Failed to resolve 'pkc-921jm.us-east-2.aws.confluent.cloud:9092': Temporary failure in name resolution (after 1ms in state CONNECT, 20 identical error(s) suppressed)\n%3|1745961298.231|FAIL|rdkafka#producer-1| [thrd:sasl_ssl://pkc-921jm.us-east-2.aws.confluent.cloud:9092/bootstr]: sasl_ssl://pkc-921jm.us-east-2.aws.confluent.cloud:9092/bootstrap: Failed to resolve 'pkc-921jm.us-east-2.aws.confluent.cloud:9092': Temporary failure in name resolution (after 1ms in state CONNECT, 21 identical error(s) suppressed)\n%3|1745961328.236|FAIL|rdkafka#producer-1| [thrd:sasl_ssl://pkc-921jm.us-east-2.aws.confluent.cloud:9092/bootstr]: sasl_ssl://pkc-921jm.us-east-2.aws.confluent.cloud:9092/bootstrap: Failed to resolve 'pkc-921jm.us-east-2.aws.confluent.cloud:9092': Temporary failure in name resolution (after 1ms in state CONNECT, 20 identical error(s) suppressed)\n%3|1745961358.241|FAIL|rdkafka#producer-1| [thrd:sasl_ssl://pkc-921jm.us-east-2.aws.confluent.cloud:9092/bootstr]: sasl_ssl://pkc-921jm.us-east-2.aws.confluent.cloud:9092/bootstrap: Failed to resolve 'pkc-921jm.us-east-2.aws.confluent.cloud:9092': Temporary failure in name resolution (after 1ms in state CONNECT, 20 identical error(s) suppressed)\n%3|1745961388.259|FAIL|rdkafka#producer-1| [thrd:sasl_ssl://pkc-921jm.us-east-2.aws.confluent.cloud:9092/bootstr]: sasl_ssl://pkc-921jm.us-east-2.aws.confluent.cloud:9092/bootstrap: Failed to resolve 'pkc-921jm.us-east-2.aws.confluent.cloud:9092': Temporary failure in name resolution (after 9ms in state CONNECT, 20 identical error(s) suppressed)\n%3|1745961420.208|FAIL|rdkafka#producer-1| [thrd:sasl_ssl://pkc-921jm.us-east-2.aws.confluent.cloud:9092/bootstr]: sasl_ssl://pkc-921jm.us-east-2.aws.confluent.cloud:9092/bootstrap: Failed to resolve 'pkc-921jm.us-east-2.aws.confluent.cloud:9092': Temporary failure in name resolution (after 2ms in state CONNECT, 21 identical error(s) suppressed)\n%3|1745961451.215|FAIL|rdkafka#producer-1| [thrd:sasl_ssl://pkc-921jm.us-east-2.aws.confluent.cloud:9092/bootstr]: sasl_ssl://pkc-921jm.us-east-2.aws.confluent.cloud:9092/bootstrap: Failed to resolve 'pkc-921jm.us-east-2.aws.confluent.cloud:9092': Temporary failure in name resolution (after 2ms in state CONNECT, 21 identical error(s) suppressed)\n%3|1745961481.222|FAIL|rdkafka#producer-1| [thrd:sasl_ssl://pkc-921jm.us-east-2.aws.confluent.cloud:9092/bootstr]: sasl_ssl://pkc-921jm.us-east-2.aws.confluent.cloud:9092/bootstrap: Failed to resolve 'pkc-921jm.us-east-2.aws.confluent.cloud:9092': Temporary failure in name resolution (after 1ms in state CONNECT, 20 identical error(s) suppressed)\n%3|1745961511.229|FAIL|rdkafka#producer-1| [thrd:sasl_ssl://pkc-921jm.us-east-2.aws.confluent.cloud:9092/bootstr]: sasl_ssl://pkc-921jm.us-east-2.aws.confluent.cloud:9092/bootstrap: Failed to resolve 'pkc-921jm.us-east-2.aws.confluent.cloud:9092': Temporary failure in name resolution (after 1ms in state CONNECT, 20 identical error(s) suppressed)\n"
     ]
    },
    {
     "output_type": "stream",
     "name": "stdout",
     "output_type": "stream",
     "text": [
      "message is not delivered: KafkaError{code=_MSG_TIMED_OUT,val=-192,str=\"Local: Message timed out\"}\n"
     ]
    },
    {
     "output_type": "stream",
     "name": "stderr",
     "output_type": "stream",
     "text": [
      "%3|1745961542.238|FAIL|rdkafka#producer-1| [thrd:sasl_ssl://pkc-921jm.us-east-2.aws.confluent.cloud:9092/bootstr]: sasl_ssl://pkc-921jm.us-east-2.aws.confluent.cloud:9092/bootstrap: Failed to resolve 'pkc-921jm.us-east-2.aws.confluent.cloud:9092': Temporary failure in name resolution (after 1ms in state CONNECT, 21 identical error(s) suppressed)\n%3|1745961572.243|FAIL|rdkafka#producer-1| [thrd:sasl_ssl://pkc-921jm.us-east-2.aws.confluent.cloud:9092/bootstr]: sasl_ssl://pkc-921jm.us-east-2.aws.confluent.cloud:9092/bootstrap: Failed to resolve 'pkc-921jm.us-east-2.aws.confluent.cloud:9092': Temporary failure in name resolution (after 1ms in state CONNECT, 20 identical error(s) suppressed)\n%3|1745961602.310|FAIL|rdkafka#producer-1| [thrd:sasl_ssl://pkc-921jm.us-east-2.aws.confluent.cloud:9092/bootstr]: sasl_ssl://pkc-921jm.us-east-2.aws.confluent.cloud:9092/bootstrap: Failed to resolve 'pkc-921jm.us-east-2.aws.confluent.cloud:9092': Temporary failure in name resolution (after 1ms in state CONNECT, 21 identical error(s) suppressed)\n%3|1745961633.275|FAIL|rdkafka#producer-1| [thrd:sasl_ssl://pkc-921jm.us-east-2.aws.confluent.cloud:9092/bootstr]: sasl_ssl://pkc-921jm.us-east-2.aws.confluent.cloud:9092/bootstrap: Failed to resolve 'pkc-921jm.us-east-2.aws.confluent.cloud:9092': Temporary failure in name resolution (after 3ms in state CONNECT, 21 identical error(s) suppressed)\n%3|1745961663.282|FAIL|rdkafka#producer-1| [thrd:sasl_ssl://pkc-921jm.us-east-2.aws.confluent.cloud:9092/bootstr]: sasl_ssl://pkc-921jm.us-east-2.aws.confluent.cloud:9092/bootstrap: Failed to resolve 'pkc-921jm.us-east-2.aws.confluent.cloud:9092': Temporary failure in name resolution (after 2ms in state CONNECT, 20 identical error(s) suppressed)\n%3|1745961693.293|FAIL|rdkafka#producer-1| [thrd:sasl_ssl://pkc-921jm.us-east-2.aws.confluent.cloud:9092/bootstr]: sasl_ssl://pkc-921jm.us-east-2.aws.confluent.cloud:9092/bootstrap: Failed to resolve 'pkc-921jm.us-east-2.aws.confluent.cloud:9092': Temporary failure in name resolution (after 3ms in state CONNECT, 20 identical error(s) suppressed)\n%3|1745961723.299|FAIL|rdkafka#producer-1| [thrd:sasl_ssl://pkc-921jm.us-east-2.aws.confluent.cloud:9092/bootstr]: sasl_ssl://pkc-921jm.us-east-2.aws.confluent.cloud:9092/bootstrap: Failed to resolve 'pkc-921jm.us-east-2.aws.confluent.cloud:9092': Temporary failure in name resolution (after 1ms in state CONNECT, 20 identical error(s) suppressed)\n%3|1745961753.340|FAIL|rdkafka#producer-1| [thrd:sasl_ssl://pkc-921jm.us-east-2.aws.confluent.cloud:9092/bootstr]: sasl_ssl://pkc-921jm.us-east-2.aws.confluent.cloud:9092/bootstrap: Failed to resolve 'pkc-921jm.us-east-2.aws.confluent.cloud:9092': Temporary failure in name resolution (after 1ms in state CONNECT, 20 identical error(s) suppressed)\n%3|1745961784.353|FAIL|rdkafka#producer-1| [thrd:sasl_ssl://pkc-921jm.us-east-2.aws.confluent.cloud:9092/bootstr]: sasl_ssl://pkc-921jm.us-east-2.aws.confluent.cloud:9092/bootstrap: Failed to resolve 'pkc-921jm.us-east-2.aws.confluent.cloud:9092': Temporary failure in name resolution (after 2ms in state CONNECT, 21 identical error(s) suppressed)\n"
     ]
    },
    {
     "output_type": "stream",
     "name": "stdout",
     "output_type": "stream",
     "text": [
      "message is not delivered: KafkaError{code=_MSG_TIMED_OUT,val=-192,str=\"Local: Message timed out\"}\n"
     ]
    },
    {
     "output_type": "stream",
     "name": "stderr",
     "output_type": "stream",
     "text": [
      "%3|1745961814.362|FAIL|rdkafka#producer-1| [thrd:sasl_ssl://pkc-921jm.us-east-2.aws.confluent.cloud:9092/bootstr]: sasl_ssl://pkc-921jm.us-east-2.aws.confluent.cloud:9092/bootstrap: Failed to resolve 'pkc-921jm.us-east-2.aws.confluent.cloud:9092': Temporary failure in name resolution (after 2ms in state CONNECT, 20 identical error(s) suppressed)\n%3|1745961845.378|FAIL|rdkafka#producer-1| [thrd:sasl_ssl://pkc-921jm.us-east-2.aws.confluent.cloud:9092/bootstr]: sasl_ssl://pkc-921jm.us-east-2.aws.confluent.cloud:9092/bootstrap: Failed to resolve 'pkc-921jm.us-east-2.aws.confluent.cloud:9092': Temporary failure in name resolution (after 1ms in state CONNECT, 21 identical error(s) suppressed)\n"
     ]
    }
   ],
   "source": [
    "producer = Producer(conf)\n",
    "def generate_transactions():\n",
    "    transaction = {\n",
    "        \"transaction_id\" : fake.uuid4(),\n",
    "        \"timestamp\":int(time.time()),\n",
    "        \"user_id\":random.randint(10000,99999),\n",
    "        \"amount\":round(random.uniform(5,5000),2),\n",
    "        \"transaction_type\":random.choice([\"purchase\",\"transfer\",\"withdrawal\"]),\n",
    "        \"location\":fake.city(),\n",
    "        \"mearchant\":fake.company(),\n",
    "        \"card_number\":fake.credit_card_number()\n",
    "    }\n",
    "    return transaction\n",
    "\n",
    "def delivery_report(err,msg):\n",
    "    if err is not None:\n",
    "        print(f\"message is not delivered: {err}\")\n",
    "    else:\n",
    "        print(f\"msg delivered to {msg.topic()},{[{msg.partition()}]},{msg}\")\n",
    "\n",
    "\n",
    "while True :\n",
    "    txn = generate_transactions()\n",
    "    producer.produce(\"txddata\",value = json.dumps(txn),key = str(txn['user_id']),callback = delivery_report)\n",
    "    producer.flush()\n",
    "    time.sleep(1)"
   ]
  }
 ],
 "metadata": {
  "application/vnd.databricks.v1+notebook": {
   "computePreferences": null,
   "dashboards": [],
   "environmentMetadata": {
    "base_environment": "",
    "environment_version": "2"
   },
   "inputWidgetPreferences": null,
   "language": "python",
   "notebookMetadata": {
    "pythonIndentUnit": 4
   },
   "notebookName": "Producer of Fraud Data 2025-04-29 10:42:20",
   "widgets": {}
  },
  "language_info": {
   "name": "python"
  }
 },
 "nbformat": 4,
 "nbformat_minor": 0
}