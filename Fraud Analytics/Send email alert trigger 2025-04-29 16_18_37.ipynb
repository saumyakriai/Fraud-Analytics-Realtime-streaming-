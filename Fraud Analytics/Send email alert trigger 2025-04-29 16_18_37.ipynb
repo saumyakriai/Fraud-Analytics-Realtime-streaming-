{
 "cells": [
  {
   "cell_type": "code",
   "execution_count": 0,
   "metadata": {
    "application/vnd.databricks.v1+cell": {
     "cellMetadata": {
      "byteLimit": 2048000,
      "rowLimit": 10000
     },
     "inputWidgets": {},
     "nuid": "5a625c44-53d0-4eb5-8d28-114de03b6b54",
     "showTitle": false,
     "tableResultSettingsMap": {},
     "title": ""
    }
   },
   "outputs": [],
   "source": [
    "import smtplib\n",
    "from email.mime.text import MIMEText\n",
    "from email.mime.multipart import MIMEMultipart\n",
    "from email.mime.application import MIMEApplication"
   ]
  },
  {
   "cell_type": "code",
   "execution_count": 0,
   "metadata": {
    "application/vnd.databricks.v1+cell": {
     "cellMetadata": {
      "byteLimit": 2048000,
      "rowLimit": 10000
     },
     "inputWidgets": {},
     "nuid": "a5d05a3b-8456-46ba-9797-ac445edcd2c6",
     "showTitle": false,
     "tableResultSettingsMap": {},
     "title": ""
    }
   },
   "outputs": [
    {
     "output_type": "stream",
     "name": "stdout",
     "output_type": "stream",
     "text": [
      "[Errno -3] Temporary failure in name resolution\n"
     ]
    }
   ],
   "source": [
    "SMTP_SERVER = \"smtp.gmail.com\"  # Using Gmail's SMTP server\n",
    "SMTP_PORT = 587\n",
    "EMAIL_SENDER = \"sskumar9876@gmail.com\"  # Replace with your email\n",
    "EMAIL_PASSWORD = \"krprnurloieozhlf\"  # Replace with your email app password\n",
    "EMAIL_RECEIVER = \"sudhanshu@euron.one\"  # Replace with recipient email\n",
    "\n",
    "# ✅ Email Body\n",
    "subject = \"🚀 Test Email: Fraud Alert System\"\n",
    "body = \"This is a test email to verify if SMTP works.\"\n",
    "\n",
    "msg = MIMEText(body, \"plain\")\n",
    "msg[\"Subject\"] = subject\n",
    "msg[\"From\"] = EMAIL_SENDER\n",
    "msg[\"To\"] = EMAIL_RECEIVER\n",
    "\n",
    "try :\n",
    "    server = smtplib.SMTP(SMTP_SERVER,SMTP_PORT)\n",
    "    server.starttls()\n",
    "    server.login(EMAIL_SENDER,EMAIL_PASSWORD)\n",
    "    server.sendmail(EMAIL_SENDER,EMAIL_RECEIVER,msg.as_string())\n",
    "    server.quit()\n",
    "    print(\"testing mail sent succefully\")\n",
    "except Exception as e :\n",
    "    print(e)"
   ]
  }
 ],
 "metadata": {
  "application/vnd.databricks.v1+notebook": {
   "computePreferences": null,
   "dashboards": [],
   "environmentMetadata": {
    "base_environment": "",
    "environment_version": "2"
   },
   "inputWidgetPreferences": null,
   "language": "python",
   "notebookMetadata": {
    "pythonIndentUnit": 4
   },
   "notebookName": "Send email alert trigger 2025-04-29 16:18:37",
   "widgets": {}
  },
  "language_info": {
   "name": "python"
  }
 },
 "nbformat": 4,
 "nbformat_minor": 0
}